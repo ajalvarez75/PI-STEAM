{
 "cells": [
  {
   "cell_type": "markdown",
   "metadata": {},
   "source": [
    "<center>\n",
    "\n",
    "# API Queries\n",
    "\n",
    "<center>"
   ]
  },
  {
   "cell_type": "markdown",
   "metadata": {},
   "source": [
    "In this file, I prepared all the datasets required for the functions in main.py."
   ]
  },
  {
   "cell_type": "code",
   "execution_count": 4,
   "metadata": {},
   "outputs": [],
   "source": [
    "# Importations.\n",
    "import pandas as pd"
   ]
  },
  {
   "cell_type": "code",
   "execution_count": 7,
   "metadata": {},
   "outputs": [],
   "source": [
    "# Reading CSV files.\n",
    "df_items = pd.read_csv('csv/users_items.csv')  \n",
    "df_reviews = pd.read_csv('csv/user_reviews.csv')\n",
    "df_games = pd.read_csv('csv/steam_games.csv')    "
   ]
  },
  {
   "cell_type": "code",
   "execution_count": 6,
   "metadata": {},
   "outputs": [],
   "source": [
    "# Reading Datasets files.\n",
    "df_function_1_2 =  pd.read_csv('datasets/function_1_2.csv')\n",
    "df_reviews_SA =  pd.read_csv('datasets/user_reviews_SA.csv')\n",
    "df_function_3_4_5 = pd.read_csv('datasets/function_3_4_5.csv')\n",
    "df_function_item_item = pd.read_csv('datasets/function_item_item.csv')"
   ]
  },
  {
   "cell_type": "code",
   "execution_count": 9,
   "metadata": {},
   "outputs": [
    {
     "data": {
      "text/html": [
       "<div>\n",
       "<style scoped>\n",
       "    .dataframe tbody tr th:only-of-type {\n",
       "        vertical-align: middle;\n",
       "    }\n",
       "\n",
       "    .dataframe tbody tr th {\n",
       "        vertical-align: top;\n",
       "    }\n",
       "\n",
       "    .dataframe thead th {\n",
       "        text-align: right;\n",
       "    }\n",
       "</style>\n",
       "<table border=\"1\" class=\"dataframe\">\n",
       "  <thead>\n",
       "    <tr style=\"text-align: right;\">\n",
       "      <th></th>\n",
       "      <th>genres</th>\n",
       "      <th>title</th>\n",
       "      <th>item_id</th>\n",
       "      <th>developer</th>\n",
       "      <th>year</th>\n",
       "    </tr>\n",
       "  </thead>\n",
       "  <tbody>\n",
       "    <tr>\n",
       "      <th>0</th>\n",
       "      <td>Action</td>\n",
       "      <td>Lost Summoner Kitty</td>\n",
       "      <td>761140</td>\n",
       "      <td>Kotoshiro</td>\n",
       "      <td>2018</td>\n",
       "    </tr>\n",
       "  </tbody>\n",
       "</table>\n",
       "</div>"
      ],
      "text/plain": [
       "   genres                title  item_id  developer  year\n",
       "0  Action  Lost Summoner Kitty   761140  Kotoshiro  2018"
      ]
     },
     "execution_count": 9,
     "metadata": {},
     "output_type": "execute_result"
    }
   ],
   "source": [
    "df_games.head(1)"
   ]
  },
  {
   "cell_type": "code",
   "execution_count": 10,
   "metadata": {},
   "outputs": [
    {
     "data": {
      "text/html": [
       "<div>\n",
       "<style scoped>\n",
       "    .dataframe tbody tr th:only-of-type {\n",
       "        vertical-align: middle;\n",
       "    }\n",
       "\n",
       "    .dataframe tbody tr th {\n",
       "        vertical-align: top;\n",
       "    }\n",
       "\n",
       "    .dataframe thead th {\n",
       "        text-align: right;\n",
       "    }\n",
       "</style>\n",
       "<table border=\"1\" class=\"dataframe\">\n",
       "  <thead>\n",
       "    <tr style=\"text-align: right;\">\n",
       "      <th></th>\n",
       "      <th>item_id</th>\n",
       "      <th>recommend</th>\n",
       "      <th>user_id</th>\n",
       "      <th>sentiment_analysis</th>\n",
       "    </tr>\n",
       "  </thead>\n",
       "  <tbody>\n",
       "    <tr>\n",
       "      <th>0</th>\n",
       "      <td>1250</td>\n",
       "      <td>True</td>\n",
       "      <td>76561197970982479</td>\n",
       "      <td>1</td>\n",
       "    </tr>\n",
       "  </tbody>\n",
       "</table>\n",
       "</div>"
      ],
      "text/plain": [
       "   item_id  recommend            user_id  sentiment_analysis\n",
       "0     1250       True  76561197970982479                   1"
      ]
     },
     "execution_count": 10,
     "metadata": {},
     "output_type": "execute_result"
    }
   ],
   "source": [
    "df_reviews_SA.head(1)"
   ]
  },
  {
   "cell_type": "markdown",
   "metadata": {},
   "source": [
    "<div style=\"text-align: justify\">\n",
    "\n",
    "### 1. Dataset for the PlayTimeGenre and UserForGenre functions\n",
    "\n",
    "For the first and second functions, I required:\n",
    "\n",
    "item_id, playtime_forever, and user_id from the file csv/users_items.csv.\n",
    "\n",
    "item_id, genres, and year from the file csv/steam_games.csv.\n",
    "\n",
    "</div>"
   ]
  },
  {
   "cell_type": "code",
   "execution_count": 5,
   "metadata": {},
   "outputs": [],
   "source": [
    "# Select the columns you want to combine\n",
    "columns_items = df_items[['item_id', 'playtime_forever', 'user_id']]\n",
    "columns_games = df_games[['item_id', 'genres', 'year']]\n",
    "\n",
    "# Combine the columns into a new DataFrame\n",
    "df_function_1_2 = pd.merge(columns_items, columns_games, on='item_id', how='inner')\n",
    "\n",
    "# Convert 'genres' column to lowercase\n",
    "df_function_1_2['genres'] = df_function_1_2['genres'].str.lower()\n",
    "\n",
    "# Save the new DataFrame to a CSV file\n",
    "df_function_1_2.to_csv('datasets/function_1_2.csv', index=False)"
   ]
  },
  {
   "cell_type": "code",
   "execution_count": 6,
   "metadata": {},
   "outputs": [
    {
     "data": {
      "text/html": [
       "<div>\n",
       "<style scoped>\n",
       "    .dataframe tbody tr th:only-of-type {\n",
       "        vertical-align: middle;\n",
       "    }\n",
       "\n",
       "    .dataframe tbody tr th {\n",
       "        vertical-align: top;\n",
       "    }\n",
       "\n",
       "    .dataframe thead th {\n",
       "        text-align: right;\n",
       "    }\n",
       "</style>\n",
       "<table border=\"1\" class=\"dataframe\">\n",
       "  <thead>\n",
       "    <tr style=\"text-align: right;\">\n",
       "      <th></th>\n",
       "      <th>item_id</th>\n",
       "      <th>playtime_forever</th>\n",
       "      <th>user_id</th>\n",
       "      <th>genres</th>\n",
       "      <th>year</th>\n",
       "    </tr>\n",
       "  </thead>\n",
       "  <tbody>\n",
       "    <tr>\n",
       "      <th>0</th>\n",
       "      <td>300</td>\n",
       "      <td>4733</td>\n",
       "      <td>76561197970982479</td>\n",
       "      <td>action</td>\n",
       "      <td>2010</td>\n",
       "    </tr>\n",
       "  </tbody>\n",
       "</table>\n",
       "</div>"
      ],
      "text/plain": [
       "   item_id  playtime_forever            user_id  genres  year\n",
       "0      300              4733  76561197970982479  action  2010"
      ]
     },
     "execution_count": 6,
     "metadata": {},
     "output_type": "execute_result"
    }
   ],
   "source": [
    "df_function_1_2.head(1)"
   ]
  },
  {
   "cell_type": "markdown",
   "metadata": {},
   "source": [
    "<div style=\"text-align: justify\">\n",
    "\n",
    "### 2. Dataset for the UsersRecommend, UsersWorstDeveloper and sentiment_analysis functions\n",
    "\n",
    "For the third, fourth, and fifth functions. For this file, I needed:\n",
    "\n",
    "item_id, sentiment_analysis, and recommend from the file datasets/user_reviews_SA.csv.\n",
    "\n",
    "item_id, title, year, and Developer from the file csv/steam_games.csv.\n",
    "\n",
    "</div>"
   ]
  },
  {
   "cell_type": "code",
   "execution_count": 10,
   "metadata": {},
   "outputs": [],
   "source": [
    "# Select the necessary columns for each DataFrame\n",
    "columns_user_reviews = df_reviews_SA[['item_id', 'sentiment_analysis', 'recommend']]\n",
    "columns_steam_games = df_games[['item_id', 'title', 'year', 'developer']]\n",
    "\n",
    "# Perform Inner Join\n",
    "df_function_3_4_5 = pd.merge(columns_user_reviews, columns_steam_games, on='item_id', how='inner')\n",
    "\n",
    "# Set all values to 1, representing negative sentiment.\n",
    "df_function_3_4_5['reviews_recommend'] = 1\n",
    "\n",
    "# When the condition is true (1 or 2), set the value to 2, representing positive sentiment.\n",
    "condition = (df_function_3_4_5['recommend'] == True) & (df_function_3_4_5['sentiment_analysis'].isin([1, 2]))\n",
    "df_function_3_4_5.loc[condition, 'reviews_recommend'] = 2\n",
    "\n",
    "# Convert 'developer' column to lowercase\n",
    "df_function_3_4_5['developer'] = df_function_3_4_5['developer'].str.lower()\n",
    "\n",
    "# Reorganize the columns.\n",
    "column_order = ['item_id', 'title', 'recommend', 'developer', 'year', 'sentiment_analysis', 'reviews_recommend']\n",
    "df_function_3_4_5 = df_function_3_4_5[column_order]\n",
    "\n",
    "# Save the result to a new CSV file\n",
    "df_function_3_4_5.to_csv('datasets/function_3_4_5.csv', index=False)"
   ]
  },
  {
   "cell_type": "code",
   "execution_count": 11,
   "metadata": {},
   "outputs": [
    {
     "data": {
      "text/html": [
       "<div>\n",
       "<style scoped>\n",
       "    .dataframe tbody tr th:only-of-type {\n",
       "        vertical-align: middle;\n",
       "    }\n",
       "\n",
       "    .dataframe tbody tr th {\n",
       "        vertical-align: top;\n",
       "    }\n",
       "\n",
       "    .dataframe thead th {\n",
       "        text-align: right;\n",
       "    }\n",
       "</style>\n",
       "<table border=\"1\" class=\"dataframe\">\n",
       "  <thead>\n",
       "    <tr style=\"text-align: right;\">\n",
       "      <th></th>\n",
       "      <th>item_id</th>\n",
       "      <th>title</th>\n",
       "      <th>recommend</th>\n",
       "      <th>developer</th>\n",
       "      <th>year</th>\n",
       "      <th>sentiment_analysis</th>\n",
       "      <th>reviews_recommend</th>\n",
       "    </tr>\n",
       "  </thead>\n",
       "  <tbody>\n",
       "    <tr>\n",
       "      <th>0</th>\n",
       "      <td>1250</td>\n",
       "      <td>Killing Floor</td>\n",
       "      <td>True</td>\n",
       "      <td>tripwire interactive</td>\n",
       "      <td>2009</td>\n",
       "      <td>1</td>\n",
       "      <td>2</td>\n",
       "    </tr>\n",
       "  </tbody>\n",
       "</table>\n",
       "</div>"
      ],
      "text/plain": [
       "   item_id          title  recommend             developer  year  \\\n",
       "0     1250  Killing Floor       True  tripwire interactive  2009   \n",
       "\n",
       "   sentiment_analysis  reviews_recommend  \n",
       "0                   1                  2  "
      ]
     },
     "execution_count": 11,
     "metadata": {},
     "output_type": "execute_result"
    }
   ],
   "source": [
    "df_function_3_4_5.head(1)"
   ]
  },
  {
   "cell_type": "markdown",
   "metadata": {},
   "source": [
    "<div style=\"text-align: justify\">\n",
    "\n",
    "### 3. Dataset for the recommendation_game(product_id).\n",
    "\n",
    "For the first recommendation model, I needed:\n",
    "\n",
    "item_id, sentiment_analysis and recommend from the file datasets/user_reviews_SA.\n",
    "\n",
    "item_id, title, genres from the file csv/steam_games.csv.\n",
    "\n",
    "</div>"
   ]
  },
  {
   "cell_type": "code",
   "execution_count": 8,
   "metadata": {},
   "outputs": [],
   "source": [
    "# Select the necessary columns for each DataFrame.\n",
    "columns_user_reviews = df_reviews_SA[['item_id', 'sentiment_analysis', 'recommend']]\n",
    "columns_steam_games = df_games[['item_id', 'title', 'genres']]\n",
    "\n",
    "# Suponiendo que df_function_item_item es tu DataFrame\n",
    "df_function_item_item = pd.merge(columns_user_reviews, columns_steam_games, on='item_id', how='inner')\n",
    "\n",
    "# Set all values to 1, representing negative sentiment.\n",
    "df_function_item_item['reviews_rating'] = 0\n",
    "\n",
    "# When the condition is true (1 or 2), set the value to 2, representing positive sentiment.\n",
    "condition = (df_function_item_item['recommend'] == True) & (df_function_item_item['sentiment_analysis'].isin([1, 2]))\n",
    "df_function_item_item.loc[condition, 'reviews_rating'] = 1\n",
    "\n",
    "# Drop duplicates based on all columns\n",
    "# df_function_item_item = df_function_item_item.drop_duplicates()\n",
    "\n",
    "# Drop columns.\n",
    "df_function_item_item = df_function_item_item.drop(['sentiment_analysis', 'recommend'], axis=1)\n",
    "\n",
    "# Save the result to a new CSV file.\n",
    "df_function_item_item.to_csv('datasets/function_item_item.csv', index=False)"
   ]
  },
  {
   "cell_type": "code",
   "execution_count": 9,
   "metadata": {},
   "outputs": [
    {
     "data": {
      "text/html": [
       "<div>\n",
       "<style scoped>\n",
       "    .dataframe tbody tr th:only-of-type {\n",
       "        vertical-align: middle;\n",
       "    }\n",
       "\n",
       "    .dataframe tbody tr th {\n",
       "        vertical-align: top;\n",
       "    }\n",
       "\n",
       "    .dataframe thead th {\n",
       "        text-align: right;\n",
       "    }\n",
       "</style>\n",
       "<table border=\"1\" class=\"dataframe\">\n",
       "  <thead>\n",
       "    <tr style=\"text-align: right;\">\n",
       "      <th></th>\n",
       "      <th>item_id</th>\n",
       "      <th>title</th>\n",
       "      <th>genres</th>\n",
       "      <th>reviews_rating</th>\n",
       "    </tr>\n",
       "  </thead>\n",
       "  <tbody>\n",
       "    <tr>\n",
       "      <th>0</th>\n",
       "      <td>1250</td>\n",
       "      <td>Killing Floor</td>\n",
       "      <td>Action</td>\n",
       "      <td>1</td>\n",
       "    </tr>\n",
       "  </tbody>\n",
       "</table>\n",
       "</div>"
      ],
      "text/plain": [
       "   item_id          title  genres  reviews_rating\n",
       "0     1250  Killing Floor  Action               1"
      ]
     },
     "execution_count": 9,
     "metadata": {},
     "output_type": "execute_result"
    }
   ],
   "source": [
    "df_function_item_item.head(1)"
   ]
  }
 ],
 "metadata": {
  "kernelspec": {
   "display_name": "Python 3",
   "language": "python",
   "name": "python3"
  },
  "language_info": {
   "codemirror_mode": {
    "name": "ipython",
    "version": 3
   },
   "file_extension": ".py",
   "mimetype": "text/x-python",
   "name": "python",
   "nbconvert_exporter": "python",
   "pygments_lexer": "ipython3",
   "version": "3.9.13"
  }
 },
 "nbformat": 4,
 "nbformat_minor": 2
}
