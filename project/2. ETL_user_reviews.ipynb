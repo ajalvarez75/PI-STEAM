{
 "cells": [
  {
   "cell_type": "markdown",
   "metadata": {},
   "source": [
    "<center>\n",
    "\n",
    "# User Reviews ETL\n",
    "\n",
    "<center>"
   ]
  },
  {
   "cell_type": "code",
   "execution_count": 10,
   "metadata": {},
   "outputs": [],
   "source": [
    "# Importations.\n",
    "import os\n",
    "import pandas as pd\n",
    "import ast\n",
    "import numpy as np"
   ]
  },
  {
   "cell_type": "markdown",
   "metadata": {},
   "source": [
    "<div style=\"text-align: justify\">\n",
    "\n",
    "### 1. Converting Data: From JSON Format to CSV Format\n",
    "\n",
    "This is the final version of the code to transform the JSON file into a CSV file. The process was challenging because the reviews column was nested with a list that contained lists for every user. Inside each list, there was a dictionary with all the reviews from the user. Additionally, some reviews had escape sequences like \\r (Carriage Return) or \\n (New Line). When I attempted to normalize the file, the sequence and order were lost. To normalize the file, I had to clean the JSON file and create a new one. Then, I could successfully normalize the file.\n",
    "</div>"
   ]
  },
  {
   "cell_type": "code",
   "execution_count": 3,
   "metadata": {},
   "outputs": [
    {
     "name": "stdout",
     "output_type": "stream",
     "text": [
      "The file csv/user_reviews.csv was successfully created.\n"
     ]
    }
   ],
   "source": [
    "# Transformation code: from JSON to CSV. \n",
    "# File paths.\n",
    "user_reviews = 'PI MLOps - STEAM/user_reviews.json'\n",
    "user_reviews_cleaned = 'PI MLOps - STEAM/user_reviews_cleaned.json'\n",
    "user_reviews_csv = 'csv/user_reviews.csv'\n",
    "\n",
    "# If the cleaned file does not exist, create it.\n",
    "if not os.path.exists(user_reviews_csv):\n",
    "    # Read the JSON file and clean the review text format.\n",
    "    with open(user_reviews, encoding='utf-8') as f, open(user_reviews_cleaned, 'w', encoding='utf-8') as f_cleaned:\n",
    "        for line in f.readlines():\n",
    "            review_data = ast.literal_eval(line)\n",
    "            user_reviews = review_data.get('reviews', [])\n",
    "\n",
    "            # Clean the format of the review text.\n",
    "            for review in user_reviews:\n",
    "                review['review'] = review.get('review', '').replace('\\r', ' ').replace('\\n', ' ').replace('\\t', ' ')\n",
    "\n",
    "            # Write the cleaned line to the new file.\n",
    "            f_cleaned.write(str(review_data) + '\\n')\n",
    "\n",
    "        # Read the cleaned JSON file and normalize to a DataFrame.\n",
    "        reviews = []\n",
    "        with open(user_reviews_cleaned, encoding='utf-8') as f:\n",
    "            for line in f.readlines():\n",
    "                review_data = ast.literal_eval(line)\n",
    "                user_id = review_data.get('user_id', '')\n",
    "                user_url = review_data.get('user_url', '')\n",
    "                user_reviews = review_data.get('reviews', [])\n",
    "\n",
    "                # Add 'user_id' and 'user_url' to each review.\n",
    "                for review in user_reviews:\n",
    "                    review['user_id'] = user_id\n",
    "                    review['user_url'] = user_url\n",
    "\n",
    "                reviews.extend(user_reviews)\n",
    "\n",
    "        # Normalize the JSON to a DataFrame.\n",
    "        df_reviews = pd.json_normalize(reviews)\n",
    "\n",
    "        # Save the DataFrame as a CSV file.\n",
    "        df_reviews.to_csv(user_reviews_csv, index=False)\n",
    "    print(f'The file {user_reviews_csv} was successfully created.')        \n",
    "else:\n",
    "    print(f'The cleaned file {user_reviews_csv} already exists.')"
   ]
  },
  {
   "cell_type": "code",
   "execution_count": 5,
   "metadata": {},
   "outputs": [],
   "source": [
    "# reading the file user_reviews.csv, during the first version of the transformation code.\n",
    "df_reviews = pd.read_csv('csv/user_reviews.csv')"
   ]
  },
  {
   "cell_type": "code",
   "execution_count": 3,
   "metadata": {},
   "outputs": [
    {
     "data": {
      "text/html": [
       "<div>\n",
       "<style scoped>\n",
       "    .dataframe tbody tr th:only-of-type {\n",
       "        vertical-align: middle;\n",
       "    }\n",
       "\n",
       "    .dataframe tbody tr th {\n",
       "        vertical-align: top;\n",
       "    }\n",
       "\n",
       "    .dataframe thead th {\n",
       "        text-align: right;\n",
       "    }\n",
       "</style>\n",
       "<table border=\"1\" class=\"dataframe\">\n",
       "  <thead>\n",
       "    <tr style=\"text-align: right;\">\n",
       "      <th></th>\n",
       "      <th>user_id</th>\n",
       "      <th>user_url</th>\n",
       "      <th>reviews</th>\n",
       "    </tr>\n",
       "  </thead>\n",
       "  <tbody>\n",
       "    <tr>\n",
       "      <th>0</th>\n",
       "      <td>76561197970982479</td>\n",
       "      <td>http://steamcommunity.com/profiles/76561197970...</td>\n",
       "      <td>[{'funny': '', 'posted': 'Posted November 5, 2...</td>\n",
       "    </tr>\n",
       "  </tbody>\n",
       "</table>\n",
       "</div>"
      ],
      "text/plain": [
       "             user_id                                           user_url  \\\n",
       "0  76561197970982479  http://steamcommunity.com/profiles/76561197970...   \n",
       "\n",
       "                                             reviews  \n",
       "0  [{'funny': '', 'posted': 'Posted November 5, 2...  "
      ]
     },
     "execution_count": 3,
     "metadata": {},
     "output_type": "execute_result"
    }
   ],
   "source": [
    "# checking the file information.\n",
    "df_reviews.head(1)"
   ]
  },
  {
   "cell_type": "markdown",
   "metadata": {},
   "source": [
    "At the beginning, I thought this was nested like the Users Items file, so I updated the code and tried it again."
   ]
  },
  {
   "cell_type": "code",
   "execution_count": 3,
   "metadata": {},
   "outputs": [],
   "source": [
    "# checking the result after the unnesting proccess.\n",
    "df_reviews_unnested = pd.read_csv('csv/user_reviews.csv')"
   ]
  },
  {
   "cell_type": "code",
   "execution_count": 25,
   "metadata": {},
   "outputs": [
    {
     "data": {
      "text/html": [
       "<div>\n",
       "<style scoped>\n",
       "    .dataframe tbody tr th:only-of-type {\n",
       "        vertical-align: middle;\n",
       "    }\n",
       "\n",
       "    .dataframe tbody tr th {\n",
       "        vertical-align: top;\n",
       "    }\n",
       "\n",
       "    .dataframe thead th {\n",
       "        text-align: right;\n",
       "    }\n",
       "</style>\n",
       "<table border=\"1\" class=\"dataframe\">\n",
       "  <thead>\n",
       "    <tr style=\"text-align: right;\">\n",
       "      <th></th>\n",
       "      <th>funny</th>\n",
       "      <th>posted</th>\n",
       "      <th>last_edited</th>\n",
       "      <th>item_id</th>\n",
       "      <th>helpful</th>\n",
       "      <th>recommend</th>\n",
       "      <th>review</th>\n",
       "      <th>user_id</th>\n",
       "      <th>user_url</th>\n",
       "    </tr>\n",
       "  </thead>\n",
       "  <tbody>\n",
       "    <tr>\n",
       "      <th>0</th>\n",
       "      <td>NaN</td>\n",
       "      <td>Posted November 5, 2011.</td>\n",
       "      <td>NaN</td>\n",
       "      <td>1250</td>\n",
       "      <td>No ratings yet</td>\n",
       "      <td>True</td>\n",
       "      <td>Simple yet with great replayability. In my opi...</td>\n",
       "      <td>76561197970982479</td>\n",
       "      <td>http://steamcommunity.com/profiles/76561197970...</td>\n",
       "    </tr>\n",
       "    <tr>\n",
       "      <th>1</th>\n",
       "      <td>NaN</td>\n",
       "      <td>Posted July 15, 2011.</td>\n",
       "      <td>NaN</td>\n",
       "      <td>22200</td>\n",
       "      <td>No ratings yet</td>\n",
       "      <td>True</td>\n",
       "      <td>It's unique and worth a playthrough.</td>\n",
       "      <td>76561197970982479</td>\n",
       "      <td>http://steamcommunity.com/profiles/76561197970...</td>\n",
       "    </tr>\n",
       "    <tr>\n",
       "      <th>2</th>\n",
       "      <td>NaN</td>\n",
       "      <td>Posted April 21, 2011.</td>\n",
       "      <td>NaN</td>\n",
       "      <td>43110</td>\n",
       "      <td>No ratings yet</td>\n",
       "      <td>True</td>\n",
       "      <td>Great atmosphere. The gunplay can be a bit chu...</td>\n",
       "      <td>76561197970982479</td>\n",
       "      <td>http://steamcommunity.com/profiles/76561197970...</td>\n",
       "    </tr>\n",
       "  </tbody>\n",
       "</table>\n",
       "</div>"
      ],
      "text/plain": [
       "  funny                    posted last_edited  item_id         helpful  \\\n",
       "0   NaN  Posted November 5, 2011.         NaN     1250  No ratings yet   \n",
       "1   NaN     Posted July 15, 2011.         NaN    22200  No ratings yet   \n",
       "2   NaN    Posted April 21, 2011.         NaN    43110  No ratings yet   \n",
       "\n",
       "   recommend                                             review  \\\n",
       "0       True  Simple yet with great replayability. In my opi...   \n",
       "1       True               It's unique and worth a playthrough.   \n",
       "2       True  Great atmosphere. The gunplay can be a bit chu...   \n",
       "\n",
       "             user_id                                           user_url  \n",
       "0  76561197970982479  http://steamcommunity.com/profiles/76561197970...  \n",
       "1  76561197970982479  http://steamcommunity.com/profiles/76561197970...  \n",
       "2  76561197970982479  http://steamcommunity.com/profiles/76561197970...  "
      ]
     },
     "execution_count": 25,
     "metadata": {},
     "output_type": "execute_result"
    }
   ],
   "source": [
    "# checking the result after the first update.\n",
    "df_reviews_unnested.head(3)"
   ]
  },
  {
   "cell_type": "markdown",
   "metadata": {},
   "source": [
    "<div style=\"text-align: justify\">\n",
    "\n",
    "I tried to unnest this file using the code for the User Reviews file inside 0. preparation.ipynb. Apparently, everything was perfect, but when I wanted to check the file in Power BI, it showed me a warning indicating that 3 items had errors. I could see the items ID, but I couldn't see the 3 users' IDs with the errors. The users were AxeOfChaos, cumtasteslikejelly, and 988988MePls.\n",
    "\n",
    "</div>"
   ]
  },
  {
   "cell_type": "markdown",
   "metadata": {},
   "source": [
    "<div style=\"text-align: justify\">\n",
    "\n",
    "### 2. Understanding How the Review Column Was Nested\n",
    "\n",
    "After finding the 3 errors, I decided to check and discovered that the normalization of the file did not work. I reached this conclusion when I tested 2 items IDs from the user 76561198114558878. For instance, the item 108600 is not reflecting the full description, unlike the item 239140.\n",
    "\n",
    "</div>"
   ]
  },
  {
   "cell_type": "code",
   "execution_count": 27,
   "metadata": {},
   "outputs": [
    {
     "data": {
      "text/html": [
       "<div>\n",
       "<style scoped>\n",
       "    .dataframe tbody tr th:only-of-type {\n",
       "        vertical-align: middle;\n",
       "    }\n",
       "\n",
       "    .dataframe tbody tr th {\n",
       "        vertical-align: top;\n",
       "    }\n",
       "\n",
       "    .dataframe thead th {\n",
       "        text-align: right;\n",
       "    }\n",
       "</style>\n",
       "<table border=\"1\" class=\"dataframe\">\n",
       "  <thead>\n",
       "    <tr style=\"text-align: right;\">\n",
       "      <th></th>\n",
       "      <th>funny</th>\n",
       "      <th>posted</th>\n",
       "      <th>last_edited</th>\n",
       "      <th>item_id</th>\n",
       "      <th>helpful</th>\n",
       "      <th>recommend</th>\n",
       "      <th>review</th>\n",
       "      <th>user_id</th>\n",
       "      <th>user_url</th>\n",
       "    </tr>\n",
       "  </thead>\n",
       "  <tbody>\n",
       "    <tr>\n",
       "      <th>58222</th>\n",
       "      <td>1 person found this review funny</td>\n",
       "      <td>Posted December 19, 2015.</td>\n",
       "      <td>NaN</td>\n",
       "      <td>349100</td>\n",
       "      <td>9 of 9 people (100%) found this review helpful</td>\n",
       "      <td>True</td>\n",
       "      <td>Notrium.I don't have words for this game. Prob...</td>\n",
       "      <td>76561198114558878</td>\n",
       "      <td>http://steamcommunity.com/profiles/76561198114...</td>\n",
       "    </tr>\n",
       "    <tr>\n",
       "      <th>58223</th>\n",
       "      <td>NaN</td>\n",
       "      <td>Posted May 19, 2014.</td>\n",
       "      <td>NaN</td>\n",
       "      <td>108600</td>\n",
       "      <td>2 of 2 people (100%) found this review helpful</td>\n",
       "      <td>True</td>\n",
       "      <td>A fantastic zombie game! Fast paced; but also ...</td>\n",
       "      <td>76561198114558878</td>\n",
       "      <td>http://steamcommunity.com/profiles/76561198114...</td>\n",
       "    </tr>\n",
       "    <tr>\n",
       "      <th>58224</th>\n",
       "      <td>NaN</td>\n",
       "      <td>Posted August 12, 2014.</td>\n",
       "      <td>NaN</td>\n",
       "      <td>227940</td>\n",
       "      <td>1 of 3 people (33%) found this review helpful</td>\n",
       "      <td>True</td>\n",
       "      <td>Heroes and Generals is a FPS based in the year...</td>\n",
       "      <td>76561198114558878</td>\n",
       "      <td>http://steamcommunity.com/profiles/76561198114...</td>\n",
       "    </tr>\n",
       "    <tr>\n",
       "      <th>58225</th>\n",
       "      <td>1 person found this review funny</td>\n",
       "      <td>Posted June 9.</td>\n",
       "      <td>NaN</td>\n",
       "      <td>239140</td>\n",
       "      <td>2 of 10 people (20%) found this review helpful</td>\n",
       "      <td>False</td>\n",
       "      <td>Did you literally just make my base game redun...</td>\n",
       "      <td>76561198114558878</td>\n",
       "      <td>http://steamcommunity.com/profiles/76561198114...</td>\n",
       "    </tr>\n",
       "  </tbody>\n",
       "</table>\n",
       "</div>"
      ],
      "text/plain": [
       "                                  funny                     posted  \\\n",
       "58222  1 person found this review funny  Posted December 19, 2015.   \n",
       "58223                               NaN       Posted May 19, 2014.   \n",
       "58224                               NaN    Posted August 12, 2014.   \n",
       "58225  1 person found this review funny             Posted June 9.   \n",
       "\n",
       "      last_edited  item_id                                         helpful  \\\n",
       "58222         NaN   349100  9 of 9 people (100%) found this review helpful   \n",
       "58223         NaN   108600  2 of 2 people (100%) found this review helpful   \n",
       "58224         NaN   227940   1 of 3 people (33%) found this review helpful   \n",
       "58225         NaN   239140  2 of 10 people (20%) found this review helpful   \n",
       "\n",
       "       recommend                                             review  \\\n",
       "58222       True  Notrium.I don't have words for this game. Prob...   \n",
       "58223       True  A fantastic zombie game! Fast paced; but also ...   \n",
       "58224       True  Heroes and Generals is a FPS based in the year...   \n",
       "58225      False  Did you literally just make my base game redun...   \n",
       "\n",
       "                 user_id                                           user_url  \n",
       "58222  76561198114558878  http://steamcommunity.com/profiles/76561198114...  \n",
       "58223  76561198114558878  http://steamcommunity.com/profiles/76561198114...  \n",
       "58224  76561198114558878  http://steamcommunity.com/profiles/76561198114...  \n",
       "58225  76561198114558878  http://steamcommunity.com/profiles/76561198114...  "
      ]
     },
     "execution_count": 27,
     "metadata": {},
     "output_type": "execute_result"
    }
   ],
   "source": [
    "# User from error.\n",
    "user_id_value = '76561198114558878'\n",
    "\n",
    "# Filter the DataFrame for rows with the specified user_id.\n",
    "user_results = df_reviews_unnested[df_reviews_unnested['user_id'] == user_id_value]\n",
    "\n",
    "# Display the resulting DataFrame.\n",
    "user_results\n"
   ]
  },
  {
   "cell_type": "markdown",
   "metadata": {},
   "source": [
    "I found the user 76561198114558878 when I filtered the column posted in Power BI, so I took it for the test."
   ]
  },
  {
   "cell_type": "code",
   "execution_count": 35,
   "metadata": {},
   "outputs": [
    {
     "data": {
      "text/html": [
       "<div>\n",
       "<style scoped>\n",
       "    .dataframe tbody tr th:only-of-type {\n",
       "        vertical-align: middle;\n",
       "    }\n",
       "\n",
       "    .dataframe tbody tr th {\n",
       "        vertical-align: top;\n",
       "    }\n",
       "\n",
       "    .dataframe thead th {\n",
       "        text-align: right;\n",
       "    }\n",
       "</style>\n",
       "<table border=\"1\" class=\"dataframe\">\n",
       "  <thead>\n",
       "    <tr style=\"text-align: right;\">\n",
       "      <th></th>\n",
       "      <th>funny</th>\n",
       "      <th>posted</th>\n",
       "      <th>last_edited</th>\n",
       "      <th>item_id</th>\n",
       "      <th>helpful</th>\n",
       "      <th>recommend</th>\n",
       "      <th>review</th>\n",
       "      <th>user_id</th>\n",
       "      <th>user_url</th>\n",
       "    </tr>\n",
       "  </thead>\n",
       "  <tbody>\n",
       "    <tr>\n",
       "      <th>58223</th>\n",
       "      <td>NaN</td>\n",
       "      <td>Posted May 19, 2014.</td>\n",
       "      <td>NaN</td>\n",
       "      <td>108600</td>\n",
       "      <td>2 of 2 people (100%) found this review helpful</td>\n",
       "      <td>True</td>\n",
       "      <td>A fantastic zombie game! Fast paced; but also ...</td>\n",
       "      <td>76561198114558878</td>\n",
       "      <td>http://steamcommunity.com/profiles/76561198114...</td>\n",
       "    </tr>\n",
       "  </tbody>\n",
       "</table>\n",
       "</div>"
      ],
      "text/plain": [
       "      funny                posted last_edited  item_id  \\\n",
       "58223   NaN  Posted May 19, 2014.         NaN   108600   \n",
       "\n",
       "                                              helpful  recommend  \\\n",
       "58223  2 of 2 people (100%) found this review helpful       True   \n",
       "\n",
       "                                                  review            user_id  \\\n",
       "58223  A fantastic zombie game! Fast paced; but also ...  76561198114558878   \n",
       "\n",
       "                                                user_url  \n",
       "58223  http://steamcommunity.com/profiles/76561198114...  "
      ]
     },
     "execution_count": 35,
     "metadata": {},
     "output_type": "execute_result"
    }
   ],
   "source": [
    "# searching a result considering the user_id and item_id.\n",
    "user_id_value = '76561198114558878'\n",
    "item_id_value = 108600\n",
    "\n",
    "# Filter the DataFrame for records with specific user_id and item_id.\n",
    "filtered_records = df_reviews_unnested[(df_reviews_unnested['user_id'] == user_id_value) & (df_reviews_unnested['item_id'] == item_id_value)]\n",
    "\n",
    "filtered_records"
   ]
  },
  {
   "cell_type": "code",
   "execution_count": 36,
   "metadata": {},
   "outputs": [
    {
     "name": "stdout",
     "output_type": "stream",
     "text": [
      "Review content:\n",
      " = It's a Zombie game. At least they aren't Nazis... /Senses incoming DLC./as holding my handgun upside down; AND backwards! D; What's up with that? You should also make sure that the if you get a certain style of melee weapon; they swing differently. Like; I don't think I'd swing an Axe like a Baseball bat. XD Just saying!\n"
     ]
    }
   ],
   "source": [
    "# Display the full content of the 'review' column for the specific user and item.\n",
    "print(\"Review content:\")\n",
    "for index, row in filtered_records.iterrows():\n",
    "    print(row['review'])"
   ]
  },
  {
   "cell_type": "markdown",
   "metadata": {},
   "source": [
    "<div style=\"text-align: justify\">\n",
    "\n",
    "After comparing both outputs, I realized something was wrong. Taking a closer look at the **review** column in Power BI when I wanted to filter the information, I noticed there was an empty list [] and, after this, many other lists with dictionaries. The column composition was something like this: [[], [{'funny': '', 'posted': 'Posted November 5, 2011.', 'last_edited': '', 'item_id': '1250', 'helpful': 'No ratings yet', 'recommend': True, 'review': 'Simple yet with great replayability. In my opinion, it does 'zombie' hordes and teamwork better than Left 4 Dead, plus it has a global leveling system. A lot of down-to-earth 'zombie' splattering fun for the whole family. Amazed this sort of FPS is so rare.'}, {...}], [{'...'}]...] this made me rebuild the code.\n",
    "\n",
    "</div>"
   ]
  },
  {
   "cell_type": "code",
   "execution_count": 2,
   "metadata": {},
   "outputs": [],
   "source": [
    "# reading the csv file after the code rebuild.\n",
    "df_reviews_final = pd.read_csv('csv/user_reviews.csv')"
   ]
  },
  {
   "cell_type": "code",
   "execution_count": 5,
   "metadata": {},
   "outputs": [
    {
     "data": {
      "text/html": [
       "<div>\n",
       "<style scoped>\n",
       "    .dataframe tbody tr th:only-of-type {\n",
       "        vertical-align: middle;\n",
       "    }\n",
       "\n",
       "    .dataframe tbody tr th {\n",
       "        vertical-align: top;\n",
       "    }\n",
       "\n",
       "    .dataframe thead th {\n",
       "        text-align: right;\n",
       "    }\n",
       "</style>\n",
       "<table border=\"1\" class=\"dataframe\">\n",
       "  <thead>\n",
       "    <tr style=\"text-align: right;\">\n",
       "      <th></th>\n",
       "      <th>funny</th>\n",
       "      <th>posted</th>\n",
       "      <th>last_edited</th>\n",
       "      <th>item_id</th>\n",
       "      <th>helpful</th>\n",
       "      <th>recommend</th>\n",
       "      <th>review</th>\n",
       "      <th>user_id</th>\n",
       "      <th>user_url</th>\n",
       "    </tr>\n",
       "  </thead>\n",
       "  <tbody>\n",
       "    <tr>\n",
       "      <th>8824</th>\n",
       "      <td>NaN</td>\n",
       "      <td>Posted August 31.</td>\n",
       "      <td>NaN</td>\n",
       "      <td>475150</td>\n",
       "      <td>4 of 4 people (100%) found this review helpful</td>\n",
       "      <td>True</td>\n",
       "      <td>The original and the best just got even better...</td>\n",
       "      <td>AxeOfChaos</td>\n",
       "      <td>http://steamcommunity.com/id/AxeOfChaos</td>\n",
       "    </tr>\n",
       "    <tr>\n",
       "      <th>8825</th>\n",
       "      <td>NaN</td>\n",
       "      <td>Posted August 21, 2013.</td>\n",
       "      <td>NaN</td>\n",
       "      <td>24740</td>\n",
       "      <td>No ratings yet</td>\n",
       "      <td>True</td>\n",
       "      <td>Most fun you can have on 4 wheels, or even 2! ...</td>\n",
       "      <td>AxeOfChaos</td>\n",
       "      <td>http://steamcommunity.com/id/AxeOfChaos</td>\n",
       "    </tr>\n",
       "    <tr>\n",
       "      <th>8826</th>\n",
       "      <td>NaN</td>\n",
       "      <td>Posted July 30, 2012.</td>\n",
       "      <td>NaN</td>\n",
       "      <td>105600</td>\n",
       "      <td>No ratings yet</td>\n",
       "      <td>True</td>\n",
       "      <td>Co-op is amazing :D</td>\n",
       "      <td>AxeOfChaos</td>\n",
       "      <td>http://steamcommunity.com/id/AxeOfChaos</td>\n",
       "    </tr>\n",
       "  </tbody>\n",
       "</table>\n",
       "</div>"
      ],
      "text/plain": [
       "     funny                   posted last_edited  item_id  \\\n",
       "8824   NaN        Posted August 31.         NaN   475150   \n",
       "8825   NaN  Posted August 21, 2013.         NaN    24740   \n",
       "8826   NaN    Posted July 30, 2012.         NaN   105600   \n",
       "\n",
       "                                             helpful  recommend  \\\n",
       "8824  4 of 4 people (100%) found this review helpful       True   \n",
       "8825                                  No ratings yet       True   \n",
       "8826                                  No ratings yet       True   \n",
       "\n",
       "                                                 review     user_id  \\\n",
       "8824  The original and the best just got even better...  AxeOfChaos   \n",
       "8825  Most fun you can have on 4 wheels, or even 2! ...  AxeOfChaos   \n",
       "8826                                Co-op is amazing :D  AxeOfChaos   \n",
       "\n",
       "                                     user_url  \n",
       "8824  http://steamcommunity.com/id/AxeOfChaos  \n",
       "8825  http://steamcommunity.com/id/AxeOfChaos  \n",
       "8826  http://steamcommunity.com/id/AxeOfChaos  "
      ]
     },
     "execution_count": 5,
     "metadata": {},
     "output_type": "execute_result"
    }
   ],
   "source": [
    "# User to check the new file.\n",
    "user_id_value = 'AxeOfChaos'\n",
    "\n",
    "# Filter the DataFrame for rows with the specified user_id.\n",
    "results = df_reviews_final[df_reviews_final['user_id'] == user_id_value]\n",
    "\n",
    "# Display the resulting DataFrame.\n",
    "results"
   ]
  },
  {
   "cell_type": "markdown",
   "metadata": {},
   "source": [
    "<div style=\"text-align: justify\">\n",
    "\n",
    "I checked this new version in Power BI and this time there were no warnings. I took AxeOfChaos as a user to test because I was unable to find results for this user after the first.\n",
    "\n",
    "</div>"
   ]
  },
  {
   "cell_type": "markdown",
   "metadata": {},
   "source": [
    "<div style=\"text-align: justify\">\n",
    "\n",
    "### 3. Finding null and duplicate values.\n",
    "\n",
    "I started cleaning the final file, removing the null and duplicate values. I checked and removed the null data in the **review** column.\n",
    "\n",
    "</div>"
   ]
  },
  {
   "cell_type": "code",
   "execution_count": 6,
   "metadata": {},
   "outputs": [
    {
     "name": "stdout",
     "output_type": "stream",
     "text": [
      "<class 'pandas.core.frame.DataFrame'>\n",
      "RangeIndex: 59276 entries, 0 to 59275\n",
      "Data columns (total 9 columns):\n",
      " #   Column       Non-Null Count  Dtype \n",
      "---  ------       --------------  ----- \n",
      " 0   funny        8143 non-null   object\n",
      " 1   posted       59276 non-null  object\n",
      " 2   last_edited  6139 non-null   object\n",
      " 3   item_id      59276 non-null  int64 \n",
      " 4   helpful      59276 non-null  object\n",
      " 5   recommend    59276 non-null  bool  \n",
      " 6   review       59246 non-null  object\n",
      " 7   user_id      59276 non-null  object\n",
      " 8   user_url     59276 non-null  object\n",
      "dtypes: bool(1), int64(1), object(7)\n",
      "memory usage: 3.7+ MB\n"
     ]
    }
   ],
   "source": [
    "df_reviews_final.info()"
   ]
  },
  {
   "cell_type": "markdown",
   "metadata": {},
   "source": [
    "According to the info() method, there were null data."
   ]
  },
  {
   "cell_type": "code",
   "execution_count": 7,
   "metadata": {},
   "outputs": [
    {
     "data": {
      "text/plain": [
       "funny          51133\n",
       "posted             0\n",
       "last_edited    53137\n",
       "item_id            0\n",
       "helpful            0\n",
       "recommend          0\n",
       "review            30\n",
       "user_id            0\n",
       "user_url           0\n",
       "dtype: int64"
      ]
     },
     "execution_count": 7,
     "metadata": {},
     "output_type": "execute_result"
    }
   ],
   "source": [
    "# Check for null values in the DataFrame.\n",
    "null_counts = df_reviews_final.isnull().sum()\n",
    "\n",
    "# Display the count of null values per column.\n",
    "null_counts"
   ]
  },
  {
   "cell_type": "markdown",
   "metadata": {},
   "source": [
    "<div style=\"text-align: justify\">\n",
    "\n",
    "According to the result, there were null data in the columns funny, last edited and review. I focused on the review column because I thought the funny and last edited columns were unnecessary for the project.\n",
    "\n",
    "</div>"
   ]
  },
  {
   "cell_type": "code",
   "execution_count": 8,
   "metadata": {},
   "outputs": [
    {
     "data": {
      "text/html": [
       "<div>\n",
       "<style scoped>\n",
       "    .dataframe tbody tr th:only-of-type {\n",
       "        vertical-align: middle;\n",
       "    }\n",
       "\n",
       "    .dataframe tbody tr th {\n",
       "        vertical-align: top;\n",
       "    }\n",
       "\n",
       "    .dataframe thead th {\n",
       "        text-align: right;\n",
       "    }\n",
       "</style>\n",
       "<table border=\"1\" class=\"dataframe\">\n",
       "  <thead>\n",
       "    <tr style=\"text-align: right;\">\n",
       "      <th></th>\n",
       "      <th>funny</th>\n",
       "      <th>posted</th>\n",
       "      <th>last_edited</th>\n",
       "      <th>item_id</th>\n",
       "      <th>helpful</th>\n",
       "      <th>recommend</th>\n",
       "      <th>review</th>\n",
       "      <th>user_id</th>\n",
       "      <th>user_url</th>\n",
       "    </tr>\n",
       "  </thead>\n",
       "  <tbody>\n",
       "    <tr>\n",
       "      <th>3095</th>\n",
       "      <td>NaN</td>\n",
       "      <td>Posted March 11.</td>\n",
       "      <td>NaN</td>\n",
       "      <td>550</td>\n",
       "      <td>No ratings yet</td>\n",
       "      <td>True</td>\n",
       "      <td>NaN</td>\n",
       "      <td>2ZESTY4ME</td>\n",
       "      <td>http://steamcommunity.com/id/2ZESTY4ME</td>\n",
       "    </tr>\n",
       "    <tr>\n",
       "      <th>4616</th>\n",
       "      <td>NaN</td>\n",
       "      <td>Posted September 19, 2014.</td>\n",
       "      <td>NaN</td>\n",
       "      <td>550</td>\n",
       "      <td>No ratings yet</td>\n",
       "      <td>True</td>\n",
       "      <td>NaN</td>\n",
       "      <td>76561198093337643</td>\n",
       "      <td>http://steamcommunity.com/profiles/76561198093...</td>\n",
       "    </tr>\n",
       "  </tbody>\n",
       "</table>\n",
       "</div>"
      ],
      "text/plain": [
       "     funny                      posted last_edited  item_id         helpful  \\\n",
       "3095   NaN            Posted March 11.         NaN      550  No ratings yet   \n",
       "4616   NaN  Posted September 19, 2014.         NaN      550  No ratings yet   \n",
       "\n",
       "      recommend review            user_id  \\\n",
       "3095       True    NaN          2ZESTY4ME   \n",
       "4616       True    NaN  76561198093337643   \n",
       "\n",
       "                                               user_url  \n",
       "3095             http://steamcommunity.com/id/2ZESTY4ME  \n",
       "4616  http://steamcommunity.com/profiles/76561198093...  "
      ]
     },
     "execution_count": 8,
     "metadata": {},
     "output_type": "execute_result"
    }
   ],
   "source": [
    "# checking for rows where 'review' is NaN or null.\n",
    "missing_reviews_rows = df_reviews_final[df_reviews_final['review'].isna()]\n",
    "missing_reviews_rows.head(2)"
   ]
  },
  {
   "cell_type": "code",
   "execution_count": 9,
   "metadata": {},
   "outputs": [
    {
     "data": {
      "text/plain": [
       "funny          51104\n",
       "posted             0\n",
       "last_edited    53107\n",
       "item_id            0\n",
       "helpful            0\n",
       "recommend          0\n",
       "review             0\n",
       "user_id            0\n",
       "user_url           0\n",
       "dtype: int64"
      ]
     },
     "execution_count": 9,
     "metadata": {},
     "output_type": "execute_result"
    }
   ],
   "source": [
    "# Remove rows where 'review' is null.\n",
    "df_reviews_final = df_reviews_final.dropna(subset=['review'])\n",
    "\n",
    "# Check for null values in the DataFrame.\n",
    "null_counts = df_reviews_final.isnull().sum()\n",
    "\n",
    "# Display the count of null values per column.\n",
    "null_counts"
   ]
  },
  {
   "cell_type": "markdown",
   "metadata": {},
   "source": [
    "I removed the NAN reviews because I think a review should give you an idea about the game you want to buy."
   ]
  },
  {
   "cell_type": "code",
   "execution_count": 10,
   "metadata": {},
   "outputs": [
    {
     "data": {
      "text/html": [
       "<div>\n",
       "<style scoped>\n",
       "    .dataframe tbody tr th:only-of-type {\n",
       "        vertical-align: middle;\n",
       "    }\n",
       "\n",
       "    .dataframe tbody tr th {\n",
       "        vertical-align: top;\n",
       "    }\n",
       "\n",
       "    .dataframe thead th {\n",
       "        text-align: right;\n",
       "    }\n",
       "</style>\n",
       "<table border=\"1\" class=\"dataframe\">\n",
       "  <thead>\n",
       "    <tr style=\"text-align: right;\">\n",
       "      <th></th>\n",
       "      <th>funny</th>\n",
       "      <th>posted</th>\n",
       "      <th>last_edited</th>\n",
       "      <th>item_id</th>\n",
       "      <th>helpful</th>\n",
       "      <th>recommend</th>\n",
       "      <th>review</th>\n",
       "      <th>user_id</th>\n",
       "      <th>user_url</th>\n",
       "    </tr>\n",
       "  </thead>\n",
       "  <tbody>\n",
       "    <tr>\n",
       "      <th>1112</th>\n",
       "      <td>NaN</td>\n",
       "      <td>Posted September 24, 2015.</td>\n",
       "      <td>NaN</td>\n",
       "      <td>346110</td>\n",
       "      <td>1 of 1 people (100%) found this review helpful</td>\n",
       "      <td>True</td>\n",
       "      <td>yep</td>\n",
       "      <td>bokkkbokkk</td>\n",
       "      <td>http://steamcommunity.com/id/bokkkbokkk</td>\n",
       "    </tr>\n",
       "    <tr>\n",
       "      <th>2891</th>\n",
       "      <td>NaN</td>\n",
       "      <td>Posted January 10, 2014.</td>\n",
       "      <td>NaN</td>\n",
       "      <td>218620</td>\n",
       "      <td>1 of 3 people (33%) found this review helpful</td>\n",
       "      <td>True</td>\n",
       "      <td>Good graphics, fun heists! A bit laggy</td>\n",
       "      <td>ImSeriouss</td>\n",
       "      <td>http://steamcommunity.com/id/ImSeriouss</td>\n",
       "    </tr>\n",
       "    <tr>\n",
       "      <th>2892</th>\n",
       "      <td>NaN</td>\n",
       "      <td>Posted January 10, 2014.</td>\n",
       "      <td>NaN</td>\n",
       "      <td>105600</td>\n",
       "      <td>0 of 2 people (0%) found this review helpful</td>\n",
       "      <td>True</td>\n",
       "      <td>So fun! DEFINITELY NOT RIP OFF OF MINECRAFT! e...</td>\n",
       "      <td>ImSeriouss</td>\n",
       "      <td>http://steamcommunity.com/id/ImSeriouss</td>\n",
       "    </tr>\n",
       "    <tr>\n",
       "      <th>2893</th>\n",
       "      <td>NaN</td>\n",
       "      <td>Posted December 17, 2014.</td>\n",
       "      <td>NaN</td>\n",
       "      <td>570</td>\n",
       "      <td>No ratings yet</td>\n",
       "      <td>True</td>\n",
       "      <td>bobo pinoy</td>\n",
       "      <td>ImSeriouss</td>\n",
       "      <td>http://steamcommunity.com/id/ImSeriouss</td>\n",
       "    </tr>\n",
       "    <tr>\n",
       "      <th>2894</th>\n",
       "      <td>NaN</td>\n",
       "      <td>Posted January 13, 2014.</td>\n",
       "      <td>NaN</td>\n",
       "      <td>211820</td>\n",
       "      <td>No ratings yet</td>\n",
       "      <td>True</td>\n",
       "      <td>If you want to play this game.. expect glithes...</td>\n",
       "      <td>ImSeriouss</td>\n",
       "      <td>http://steamcommunity.com/id/ImSeriouss</td>\n",
       "    </tr>\n",
       "    <tr>\n",
       "      <th>...</th>\n",
       "      <td>...</td>\n",
       "      <td>...</td>\n",
       "      <td>...</td>\n",
       "      <td>...</td>\n",
       "      <td>...</td>\n",
       "      <td>...</td>\n",
       "      <td>...</td>\n",
       "      <td>...</td>\n",
       "      <td>...</td>\n",
       "    </tr>\n",
       "    <tr>\n",
       "      <th>44433</th>\n",
       "      <td>NaN</td>\n",
       "      <td>Posted July 3.</td>\n",
       "      <td>NaN</td>\n",
       "      <td>422400</td>\n",
       "      <td>No ratings yet</td>\n",
       "      <td>True</td>\n",
       "      <td>Muy entretenido y una coleccion de armas prome...</td>\n",
       "      <td>76561198092022514</td>\n",
       "      <td>http://steamcommunity.com/profiles/76561198092...</td>\n",
       "    </tr>\n",
       "    <tr>\n",
       "      <th>44434</th>\n",
       "      <td>NaN</td>\n",
       "      <td>Posted June 1.</td>\n",
       "      <td>NaN</td>\n",
       "      <td>218620</td>\n",
       "      <td>No ratings yet</td>\n",
       "      <td>True</td>\n",
       "      <td>Tiene una jugabilidad y tematica muy buena :D,...</td>\n",
       "      <td>76561198092022514</td>\n",
       "      <td>http://steamcommunity.com/profiles/76561198092...</td>\n",
       "    </tr>\n",
       "    <tr>\n",
       "      <th>44435</th>\n",
       "      <td>NaN</td>\n",
       "      <td>Posted August 17, 2014.</td>\n",
       "      <td>NaN</td>\n",
       "      <td>261820</td>\n",
       "      <td>No ratings yet</td>\n",
       "      <td>True</td>\n",
       "      <td>Buen juego, no importa el desarrrollo que tien...</td>\n",
       "      <td>76561198092022514</td>\n",
       "      <td>http://steamcommunity.com/profiles/76561198092...</td>\n",
       "    </tr>\n",
       "    <tr>\n",
       "      <th>44436</th>\n",
       "      <td>NaN</td>\n",
       "      <td>Posted February 17, 2014.</td>\n",
       "      <td>NaN</td>\n",
       "      <td>224260</td>\n",
       "      <td>No ratings yet</td>\n",
       "      <td>True</td>\n",
       "      <td>exelente aporte :D¡¡¡ es una buen mod basado e...</td>\n",
       "      <td>76561198092022514</td>\n",
       "      <td>http://steamcommunity.com/profiles/76561198092...</td>\n",
       "    </tr>\n",
       "    <tr>\n",
       "      <th>44580</th>\n",
       "      <td>NaN</td>\n",
       "      <td>Posted July 18, 2015.</td>\n",
       "      <td>Last edited December 1, 2015.</td>\n",
       "      <td>730</td>\n",
       "      <td>No ratings yet</td>\n",
       "      <td>True</td>\n",
       "      <td>10/10 too many children with mikes.</td>\n",
       "      <td>SuchGayMuchWow</td>\n",
       "      <td>http://steamcommunity.com/id/SuchGayMuchWow</td>\n",
       "    </tr>\n",
       "  </tbody>\n",
       "</table>\n",
       "<p>874 rows × 9 columns</p>\n",
       "</div>"
      ],
      "text/plain": [
       "      funny                      posted                    last_edited  \\\n",
       "1112    NaN  Posted September 24, 2015.                            NaN   \n",
       "2891    NaN    Posted January 10, 2014.                            NaN   \n",
       "2892    NaN    Posted January 10, 2014.                            NaN   \n",
       "2893    NaN   Posted December 17, 2014.                            NaN   \n",
       "2894    NaN    Posted January 13, 2014.                            NaN   \n",
       "...     ...                         ...                            ...   \n",
       "44433   NaN              Posted July 3.                            NaN   \n",
       "44434   NaN              Posted June 1.                            NaN   \n",
       "44435   NaN     Posted August 17, 2014.                            NaN   \n",
       "44436   NaN   Posted February 17, 2014.                            NaN   \n",
       "44580   NaN       Posted July 18, 2015.  Last edited December 1, 2015.   \n",
       "\n",
       "       item_id                                         helpful  recommend  \\\n",
       "1112    346110  1 of 1 people (100%) found this review helpful       True   \n",
       "2891    218620   1 of 3 people (33%) found this review helpful       True   \n",
       "2892    105600    0 of 2 people (0%) found this review helpful       True   \n",
       "2893       570                                  No ratings yet       True   \n",
       "2894    211820                                  No ratings yet       True   \n",
       "...        ...                                             ...        ...   \n",
       "44433   422400                                  No ratings yet       True   \n",
       "44434   218620                                  No ratings yet       True   \n",
       "44435   261820                                  No ratings yet       True   \n",
       "44436   224260                                  No ratings yet       True   \n",
       "44580      730                                  No ratings yet       True   \n",
       "\n",
       "                                                  review            user_id  \\\n",
       "1112                                                 yep         bokkkbokkk   \n",
       "2891              Good graphics, fun heists! A bit laggy         ImSeriouss   \n",
       "2892   So fun! DEFINITELY NOT RIP OFF OF MINECRAFT! e...         ImSeriouss   \n",
       "2893                                          bobo pinoy         ImSeriouss   \n",
       "2894   If you want to play this game.. expect glithes...         ImSeriouss   \n",
       "...                                                  ...                ...   \n",
       "44433  Muy entretenido y una coleccion de armas prome...  76561198092022514   \n",
       "44434  Tiene una jugabilidad y tematica muy buena :D,...  76561198092022514   \n",
       "44435  Buen juego, no importa el desarrrollo que tien...  76561198092022514   \n",
       "44436  exelente aporte :D¡¡¡ es una buen mod basado e...  76561198092022514   \n",
       "44580                10/10 too many children with mikes.     SuchGayMuchWow   \n",
       "\n",
       "                                                user_url  \n",
       "1112             http://steamcommunity.com/id/bokkkbokkk  \n",
       "2891             http://steamcommunity.com/id/ImSeriouss  \n",
       "2892             http://steamcommunity.com/id/ImSeriouss  \n",
       "2893             http://steamcommunity.com/id/ImSeriouss  \n",
       "2894             http://steamcommunity.com/id/ImSeriouss  \n",
       "...                                                  ...  \n",
       "44433  http://steamcommunity.com/profiles/76561198092...  \n",
       "44434  http://steamcommunity.com/profiles/76561198092...  \n",
       "44435  http://steamcommunity.com/profiles/76561198092...  \n",
       "44436  http://steamcommunity.com/profiles/76561198092...  \n",
       "44580        http://steamcommunity.com/id/SuchGayMuchWow  \n",
       "\n",
       "[874 rows x 9 columns]"
      ]
     },
     "execution_count": 10,
     "metadata": {},
     "output_type": "execute_result"
    }
   ],
   "source": [
    "# finding duplicates.\n",
    "duplicates = df_reviews_final.loc[df_reviews_final.duplicated()]\n",
    "duplicates"
   ]
  },
  {
   "cell_type": "code",
   "execution_count": 11,
   "metadata": {},
   "outputs": [
    {
     "data": {
      "text/html": [
       "<div>\n",
       "<style scoped>\n",
       "    .dataframe tbody tr th:only-of-type {\n",
       "        vertical-align: middle;\n",
       "    }\n",
       "\n",
       "    .dataframe tbody tr th {\n",
       "        vertical-align: top;\n",
       "    }\n",
       "\n",
       "    .dataframe thead th {\n",
       "        text-align: right;\n",
       "    }\n",
       "</style>\n",
       "<table border=\"1\" class=\"dataframe\">\n",
       "  <thead>\n",
       "    <tr style=\"text-align: right;\">\n",
       "      <th></th>\n",
       "      <th>funny</th>\n",
       "      <th>posted</th>\n",
       "      <th>last_edited</th>\n",
       "      <th>item_id</th>\n",
       "      <th>helpful</th>\n",
       "      <th>recommend</th>\n",
       "      <th>review</th>\n",
       "      <th>user_id</th>\n",
       "      <th>user_url</th>\n",
       "    </tr>\n",
       "  </thead>\n",
       "  <tbody>\n",
       "    <tr>\n",
       "      <th>2888</th>\n",
       "      <td>NaN</td>\n",
       "      <td>Posted January 13, 2014.</td>\n",
       "      <td>NaN</td>\n",
       "      <td>211820</td>\n",
       "      <td>No ratings yet</td>\n",
       "      <td>True</td>\n",
       "      <td>If you want to play this game.. expect glithes...</td>\n",
       "      <td>ImSeriouss</td>\n",
       "      <td>http://steamcommunity.com/id/ImSeriouss</td>\n",
       "    </tr>\n",
       "    <tr>\n",
       "      <th>2894</th>\n",
       "      <td>NaN</td>\n",
       "      <td>Posted January 13, 2014.</td>\n",
       "      <td>NaN</td>\n",
       "      <td>211820</td>\n",
       "      <td>No ratings yet</td>\n",
       "      <td>True</td>\n",
       "      <td>If you want to play this game.. expect glithes...</td>\n",
       "      <td>ImSeriouss</td>\n",
       "      <td>http://steamcommunity.com/id/ImSeriouss</td>\n",
       "    </tr>\n",
       "  </tbody>\n",
       "</table>\n",
       "</div>"
      ],
      "text/plain": [
       "     funny                    posted last_edited  item_id         helpful  \\\n",
       "2888   NaN  Posted January 13, 2014.         NaN   211820  No ratings yet   \n",
       "2894   NaN  Posted January 13, 2014.         NaN   211820  No ratings yet   \n",
       "\n",
       "      recommend                                             review  \\\n",
       "2888       True  If you want to play this game.. expect glithes...   \n",
       "2894       True  If you want to play this game.. expect glithes...   \n",
       "\n",
       "         user_id                                 user_url  \n",
       "2888  ImSeriouss  http://steamcommunity.com/id/ImSeriouss  \n",
       "2894  ImSeriouss  http://steamcommunity.com/id/ImSeriouss  "
      ]
     },
     "execution_count": 11,
     "metadata": {},
     "output_type": "execute_result"
    }
   ],
   "source": [
    "# searching a duplicate result considering the user_id and item_id\n",
    "user_id_value = 'ImSeriouss'\n",
    "item_id_value = 211820\n",
    "\n",
    "# Filter the DataFrame for records with specific user_id and item_id\n",
    "filtered_records = df_reviews_final[(df_reviews_final['user_id'] == user_id_value) & (df_reviews_final['item_id'] == item_id_value)]\n",
    "\n",
    "# Display the resulting DataFrame\n",
    "filtered_records"
   ]
  },
  {
   "cell_type": "code",
   "execution_count": 12,
   "metadata": {},
   "outputs": [
    {
     "name": "stdout",
     "output_type": "stream",
     "text": [
      "Total rows before: 59246\n",
      "Total rows after: 58372\n",
      "Rows removed: 874\n"
     ]
    }
   ],
   "source": [
    "# deleting duplicate values.\n",
    "# Get the total number of rows before deduplication.\n",
    "total_rows_before = len(df_reviews_final)\n",
    "\n",
    "# Remove duplicate rows.\n",
    "df_reviews_final = df_reviews_final.drop_duplicates(keep='first')\n",
    "\n",
    "# Get the total number of rows after deduplication.\n",
    "total_rows_after = len(df_reviews_final)\n",
    "\n",
    "# Calculate the number of rows removed.\n",
    "rows_removed = total_rows_before - total_rows_after\n",
    "\n",
    "# Print the information.\n",
    "print(f'Total rows before: {total_rows_before}')\n",
    "print(f'Total rows after: {total_rows_after}')\n",
    "print(f'Rows removed: {rows_removed}')"
   ]
  },
  {
   "cell_type": "markdown",
   "metadata": {},
   "source": [
    "I wanted to be sure that the drop_duplicates function deleted the right amount of duplicate values."
   ]
  },
  {
   "cell_type": "markdown",
   "metadata": {},
   "source": [
    "<div style=\"text-align: justify\">\n",
    "\n",
    "### 4. Deleting cells with Whitespace and Empty Strings\n",
    "\n",
    "Finding a removing the rows in which the column review is empty because as the reviews with NAN this does not provide useful information to buy a game.\n",
    "\n",
    "</div>"
   ]
  },
  {
   "cell_type": "code",
   "execution_count": 3,
   "metadata": {},
   "outputs": [
    {
     "name": "stdout",
     "output_type": "stream",
     "text": [
      "Data types in 'review' column:\n",
      "review\n",
      "<class 'str'>      58364\n",
      "<class 'float'>        8\n",
      "Name: count, dtype: int64\n"
     ]
    }
   ],
   "source": [
    "# Display the data types of the 'review' column.\n",
    "print(\"Data types in 'review' column:\")\n",
    "print(df_reviews_final['review'].apply(type).value_counts())"
   ]
  },
  {
   "cell_type": "markdown",
   "metadata": {},
   "source": [
    "I found 2 different types of data in the column review, this made me wonder what kind of information the reviews had."
   ]
  },
  {
   "cell_type": "code",
   "execution_count": 5,
   "metadata": {},
   "outputs": [
    {
     "name": "stdout",
     "output_type": "stream",
     "text": [
      "                 user_id  item_id review\n",
      "614    76561198070263209      570    NaN\n",
      "914             Azrafael   215530    NaN\n",
      "9242         BomberThink   233840    NaN\n",
      "9243         BomberThink   211820    NaN\n",
      "22398             rpsntc   208090    NaN\n",
      "28002  76561198040016388     8500    NaN\n",
      "28347        SILENTLIGHT    40800    NaN\n",
      "54437           inconi70       10    NaN\n"
     ]
    }
   ],
   "source": [
    "# Identify rows where 'review' has a data type of float.\n",
    "float_review_rows = df_reviews_final[df_reviews_final['review'].apply(lambda x: isinstance(x, float))]\n",
    "\n",
    "# Display the rows where 'review' is of type float.\n",
    "print(float_review_rows[['user_id', 'item_id', 'review']])"
   ]
  },
  {
   "cell_type": "markdown",
   "metadata": {},
   "source": [
    "I filtered the float type, and the reviews were filled with NAN. This led me to think that these reviews might be filled with spaces or empty strings, as that information was not deleted when I applied dropna to remove the nulls."
   ]
  },
  {
   "cell_type": "code",
   "execution_count": 6,
   "metadata": {},
   "outputs": [
    {
     "name": "stdout",
     "output_type": "stream",
     "text": [
      "Rows where 'review' is NaN:\n",
      "                 user_id  item_id review\n",
      "614    76561198070263209      570    NaN\n",
      "914             Azrafael   215530    NaN\n",
      "9242         BomberThink   233840    NaN\n",
      "9243         BomberThink   211820    NaN\n",
      "22398             rpsntc   208090    NaN\n",
      "28002  76561198040016388     8500    NaN\n",
      "28347        SILENTLIGHT    40800    NaN\n",
      "54437           inconi70       10    NaN\n"
     ]
    }
   ],
   "source": [
    "# Identify rows where 'review' is NaN using isna().\n",
    "nan_review_rows = df_reviews_final[df_reviews_final['review'].isna()]\n",
    "\n",
    "# Display the rows where 'review' is NaN.\n",
    "print(\"Rows where 'review' is NaN:\")\n",
    "print(nan_review_rows[['user_id', 'item_id', 'review']])"
   ]
  },
  {
   "cell_type": "code",
   "execution_count": 11,
   "metadata": {},
   "outputs": [],
   "source": [
    "# Convert various types of missing values to NaN.\n",
    "df_reviews_final['review'] = df_reviews_final['review'].apply(lambda x: np.nan if pd.isna(x) or x == '' or x is None else x)\n",
    "\n",
    "# Drop rows where 'review' is NaN.\n",
    "df_reviews_final = df_reviews_final.dropna(subset=['review'])"
   ]
  },
  {
   "cell_type": "markdown",
   "metadata": {},
   "source": [
    "When I used isnull those items were not detected, but when I used **isna** I could see and remove the other rows with spaces."
   ]
  },
  {
   "cell_type": "markdown",
   "metadata": {},
   "source": [
    "<div style=\"text-align: justify\">\n",
    "\n",
    "### 5. Creating the column year from the posted column\n",
    "\n",
    "For the project, it was necessary to determine the year to calculate the most played genre. Additionally, this information is crucial for identifying the user who has accumulated the most hours for a specific genre.\n",
    "\n",
    "</div>"
   ]
  },
  {
   "cell_type": "code",
   "execution_count": 28,
   "metadata": {},
   "outputs": [
    {
     "name": "stdout",
     "output_type": "stream",
     "text": [
      "November 5, 2011  --July 15, 2011  --April 21, 2011  --June 24, 2014  --September 8, 2013  --November 29, 2013  --February 3  --December 4, 2015  --November 3, 2014  --October 15, 2014  --October 14, 2013  --July 28, 2012  --June 2, 2012  --June 29, 2014  --November 22, 2012  --February 23, 2012  --April 15, 2014  --December 23, 2013  --March 14, 2014  --July 11, 2013  --May 5, 2014  --December 24, 2012  --October 21, 2012  --March 20, 2012  --March 9, 2012  --May 20  --July 24  --February 1, 2015  --June 20, 2014  --June 16  --June 11  --August 25, 2014  --December 25, 2013  --June 23, 2012  --September 5, 2015  --March 30, 2015  --February 19, 2014  --July 14, 2014  --April 27, 2013  --July 20, 2015  --November 4, 2013  --July 12, 2013  --August 19, 2012  --June 19, 2015  --September 20, 2014  --September 7, 2014  --December 19, 2014  --February 17, 2015  --June 7, 2014  --February 12, 2014  --February 9, 2014  --October 31, 2015  --February 27  --February 4, 2015  --August 23  --April 5, 2014  --January 8, 2015  --October 26, 2015  --May 16  --March 20, 2013  --December 28, 2015  --May 19, 2015  --December 15, 2015  --March 31  --August 21, 2015  --October 17, 2014  --June 27, 2014  --April 28, 2014  --November 12, 2015  --June 18, 2014  --November 20, 2014  --May 29, 2014  --July 9  --December 29, 2014  --February 13, 2015  --December 26, 2014  --February 4, 2014  --May 21, 2015  --December 6, 2013  --May 12, 2014  --August 24, 2015  --January 6, 2015  --December 22, 2015  --June 23, 2015  --September 11, 2015  --April 22, 2013  --May 27, 2012  --January 18  --July 30  --July 28  --December 5, 2015  --October 4, 2015  --October 3, 2015  --August 13, 2015  --February 22, 2015  --January 14, 2015  --December 14, 2013  --December 1, 2013  --February 11, 2012  --February 20  --March 12, 2015  --October 14, 2015  --October 27, 2013  --November 27, 2015  --October 9, 2014  --May 7  --April 4  --March 30  --March 28  --November 9, 2015  --December 23, 2015  --May 6, 2014  --December 2, 2015  --June 6, 2015  --September 29, 2015  --September 8, 2014  --December 15, 2013  --November 23, 2015  --June 1, 2014  --July 11, 2014  --November 14, 2014  --November 13, 2015  --December 17, 2015  --October 26, 2014  --January 11  --June 28, 2014  --September 12, 2015  --September 13, 2015  --April 20  --February 26  --November 19, 2015  --June 25, 2013  --April 11, 2014  --February 22, 2014  --September 24, 2012  --September 26, 2015  --June 12, 2015  --August 3, 2015  --June 26, 2015  --January 15, 2014  --October 14, 2014  --August 31  --July 9, 2014  --March 13, 2014  --November 11, 2014  --July 21, 2015  --July 5, 2015  --February 23, 2014  --March 27  --January 15  --March 22, 2015  --August 21, 2014  --March 13, 2015  --March 20, 2015  --March 7, 2015  --October 10, 2015  --July 6, 2014  --June 19, 2014  --April 11, 2015  --December 24, 2015  --May 17, 2014  --August 9, 2014  --May 22, 2015  --August 22, 2015  --May 26  --December 30, 2015  --August 1, 2014  --December 26, 2015  --April 14, 2015  --December 30, 2014  --December 4, 2013  --August 19  --November 10, 2015  --September 14  --August 27, 2012  --February 5, 2014  --January 27, 2013  --August 25, 2015  --December 16, 2014  --March 8, 2014  --November 16, 2013  --November 11, 2015  --January 17, 2013  --July 17, 2015  --December 29, 2013  --May 6, 2015  --July 20  --January 26, 2015  --November 16, 2014  --August 17, 2014  --July 21, 2014  --July 19, 2014  --February 8, 2014  --January 7, 2014  --July 6, 2015  --September 6, 2015  --April 24, 2014  --January 27, 2015  --January 25, 2015  --May 24, 2014  --October 20, 2012  --March 28, 2014  --February 23, 2015  --August 29, 2015  --November 23, 2014  --September 9, 2014  --March 26, 2015  --July 8  --September 14, 2015  --October 13, 2014  --July 23  --December 27, 2015  --May 13, 2015  --December 21, 2015  --November 15, 2015  --September 9  --June 13, 2014  --January 7, 2015  --January 2, 2014  --November 18, 2015  --March 18, 2014  --February 16, 2014  --February 25, 2015  --August 15, 2015  --December 25, 2014  --February 22  --August 14, 2015  --May 29  --July 3  --June 20  --March 1, 2015  --November 27, 2014  --May 17  --November 20, 2015  --September 17  --August 23, 2014  --June 17, 2014  --July 10, 2014  --August 26  --June 15, 2015  --February 14, 2015  --July 1, 2015  --January 15, 2015  --April 29, 2015  --March 29, 2015  --December 26, 2013  --October 5, 2015  --June 29  --June 14, 2013  --September 4  --July 16  --May 31, 2015  --June 26  --May 3, 2015  --June 14  --August 6, 2015  --December 17, 2014  --September 30, 2014  --March 10, 2015  --January 16  --March 5  --March 19  --September 1, 2015  --April 19  --April 18  --August 8, 2015  --July 15, 2015  --May 11, 2015  --May 2, 2015  --February 7  --January 30  --August 20, 2014  --April 10  --September 15  --May 1, 2015  --October 28, 2015  --April 15  --December 15, 2014  --December 6, 2014  --January 31, 2015  --July 26, 2013  --May 18, 2013  --October 30, 2011  --December 13, 2015  --May 18, 2015  --June 22  --July 14  --June 27  --March 8  --December 13, 2014  --July 31, 2015  --June 29, 2015  --February 12, 2015  --March 29, 2014  --April 21, 2014  --February 15, 2013  --August 1, 2015  --December 27, 2013  --July 16, 2014  --January 13, 2015  --January 11, 2014  --September 3, 2015  --January 20, 2014  --May 3, 2014  --May 1  --August 2, 2014  --March 17, 2014  --July 19, 2015  --May 26, 2015  --November 22, 2015  --October 18, 2014  --March 7  --January 22, 2015  --August 20, 2015  --May 14, 2015  --April 13, 2015  --October 1, 2014  --December 28, 2013  --November 30, 2014  --January 5, 2015  --December 23, 2014  --October 4, 2014  --January 10  --September 12  --December 8, 2013  --November 6, 2015  --June 25  --September 23, 2015  --May 31, 2014  --June 24, 2015  --July 22, 2015  --March 20  --June 3, 2015  --July 26, 2014  --May 15  --May 13  --July 10  --August 16  --July 31  --March 6  --April 23, 2014  --September 8  --September 2  --April 12, 2014  --April 4, 2015  --September 14, 2014  --October 12, 2015  --December 1, 2015  --May 10, 2014  --March 25  --December 27, 2014  --July 7  --July 13, 2014  --January 28, 2015  --May 8, 2014  --November 21, 2013  --December 7, 2013  --February 9, 2013  --January 9, 2014  --July 18  --May 14  --June 18  --January 9, 2013  --November 30, 2012  --April 22  --March 10, 2014  --February 27, 2014  --November 25, 2013  --June 11, 2014  --September 4, 2015  --August 10, 2015  --July 7, 2015  --March 12  --September 15, 2013  --November 4, 2014  --August 7, 2014  --June 30, 2014  --August 7, 2015  --August 2, 2015  --February 24, 2014  --February 27, 2015  --August 13  --February 14  --January 16, 2015  --June 10, 2015  --February 24  --October 17, 2015  --October 8, 2013  --February 18, 2014  --June 4, 2014  --March 2  --February 26, 2014  --July 15, 2013  --June 16, 2015  --July 20, 2014  --August 28, 2014  --May 30, 2015  --May 26, 2014  --August 15  --March 5, 2015  --July 23, 2015  --July 7, 2014  --August 22  --October 16, 2015  --January 9  --July 15, 2012  --January 27, 2011  --December 16, 2010  --September 9, 2015  --October 15, 2015  --November 26, 2013  --December 12, 2013  --March 5, 2014  --November 30, 2013  --December 2, 2013  --November 28, 2013  --September 11, 2014  --July 18, 2014  --September 10, 2015  --May 22, 2012  --January 17, 2015  --October 24, 2014  --October 27, 2014  --October 1, 2015  --May 2, 2014  --May 6, 2013  --March 24  --May 6  --August 31, 2015  --January 10, 2015  --January 4, 2014  --April 24, 2015  --February 21, 2014  --July 13, 2015  --April 3, 2014  --August 29, 2014  --June 8  --January 4, 2015  --May 16, 2014  --November 26, 2015  --May 20, 2014  --March 25, 2014  --September 2, 2014  --February 5, 2015  --February 6, 2015  --December 24, 2013  --December 11, 2015  --June 24  --June 21, 2014  --June 3  --July 9, 2015  --July 31, 2014  --July 12, 2012  --August 14  --February 2, 2015  --December 16, 2013  --January 5, 2014  --March 11, 2015  --August 28  --December 25, 2015  --November 29, 2015  --April 13, 2014  --January 22  --April 12  --August 21  --June 5, 2015  --September 2, 2015  --January 12, 2014  --March 21, 2015  --February 28, 2015  --October 7, 2014  --July 18, 2015  --October 28, 2014  --December 20, 2013  --September 27, 2015  --March 28, 2015  --July 29  --July 5  --April 25, 2014  --November 1, 2014  --December 29, 2015  --October 18, 2015  --August 15, 2014  --May 30  --October 7, 2015  --January 1  --January 9, 2015  --February 1, 2014  --May 12  --March 2, 2015  --October 16, 2014  --August 27, 2015  --October 2, 2014  --January 14  --May 23  --September 3, 2014  --March 21, 2014  --January 27, 2014  --February 3, 2015  --June 1, 2015  --August 8, 2014  --April 17, 2014  --March 12, 2014  --January 23, 2014  --January 21, 2013  --September 27, 2012  --July 19, 2012  --February 18  --February 13  --July 4, 2015  --July 3, 2015  --June 17  --December 30, 2013  --March 26, 2014  --December 22, 2013  --October 29, 2014  --September 29, 2014  --August 16, 2014  --July 24, 2015  --April 7, 2015  --August 4, 2014  --March 27, 2015  --February 7, 2015  --October 31, 2014  --February 3, 2014  --May 9, 2014  --August 19, 2014  --June 9, 2014  --January 23, 2015  --May 7, 2014  --November 18, 2014  --December 20, 2015  --July 2, 2015  --January 24, 2013  --January 10, 2014  --March 4  --August 3  --January 1, 2014  --December 30, 2011  --June 17, 2012  --January 28, 2012  --December 27, 2011  --December 20, 2011  --December 28, 2010  --March 20, 2014  --February 21  --October 6, 2014  --May 30, 2014  --November 8, 2015  --May 24, 2015  --July 1, 2014  --September 27, 2014  --May 28, 2015  --June 18, 2015  --February 28, 2014  --June 28  --July 6  --May 9, 2015  --April 21, 2015  --May 18  --August 29  --July 30, 2015  --January 2  --June 30, 2015  --January 12, 2015  --July 12  --June 2, 2014  --May 28, 2014  --March 10  --June 27, 2015  --July 4  --June 25, 2015  --September 7  --February 29  --March 14, 2015  --July 26, 2015  --October 10, 2014  --August 17, 2015  --April 3, 2015  --August 23, 2012  --January 27  --March 11  --June 22, 2014  --September 15, 2014  --November 5, 2014  --January 1, 2015  --February 15, 2015  --May 21, 2014  --February 10, 2014  --March 23, 2014  --September 10  --July 4, 2014  --January 18, 2013  --July 29, 2014  --November 8, 2014  --June 8, 2015  --June 7, 2015  --April 28  --May 25, 2015  --February 11  --February 23  --March 22, 2014  --September 22, 2014  --April 9, 2015  --May 25, 2014  --May 24  --October 20, 2015  --December 19, 2015  --July 10, 2015  --September 18, 2015  --November 1, 2015  --February 13, 2014  --December 10, 2013  --March 22  --July 3, 2014  --May 28  --February 21, 2015  --March 7, 2014  --November 27, 2013  --February 17  --May 15, 2014  --April 2, 2014  --September 5, 2014  --March 6, 2014  --February 8  --July 5, 2014  --August 17, 2013  --August 14, 2013  --June 8, 2013  --April 2  --August 12  --October 8, 2015  --August 12, 2014  --September 28, 2011  --January 21  --January 4  --July 28, 2014  --September 13, 2014  --January 7  --July 22, 2012  --October 13, 2012  --April 2, 2015  --May 25  --September 16  --June 23  --September 26, 2014  --December 14, 2015  --July 29, 2015  --November 3, 2015  --June 15  --June 21, 2015  --December 9, 2012  --September 14, 2012  --July 17, 2014  --June 11, 2015  --April 9, 2014  --June 25, 2014  --April 26  --May 4  --October 20, 2013  --August 6, 2014  --February 7, 2014  --January 6, 2014  --December 4, 2012  --July 17, 2012  --January 21, 2015  --October 25, 2015  --November 28, 2015  --May 8, 2015  --April 26, 2015  --October 6, 2015  --August 26, 2014  --May 23, 2014  --September 24, 2015  --September 3  --December 17, 2013  --January 3  --January 30, 2014  --January 26  --April 26, 2014  --February 27, 2012  --November 29, 2014  --November 28, 2014  --May 31  --February 28, 2013  --July 7, 2013  --October 24, 2013  --February 10  --September 23, 2014  --May 1, 2014  --April 10, 2014  --January 31  --January 14, 2014  --September 30, 2015  --June 14, 2015  --September 25, 2013  --October 1, 2012  --September 23, 2013  --August 31, 2013  --August 20, 2013  --March 25, 2013  --March 26  --January 25  --December 18, 2015  --August 7  --December 12, 2014  --April 18, 2015  --May 5, 2015  --January 19  --January 24  --April 29  --May 16, 2015  --June 9, 2013  --September 11  --September 28, 2014  --August 26, 2015  --December 11, 2013  --May 20, 2015  --January 28, 2014  --December 20, 2014  --March 23, 2015  --October 29, 2015  --September 20, 2015  --April 28, 2015  --January 29, 2014  --May 27  --January 19, 2015  --June 26, 2014  --April 1, 2015  --May 23, 2015  --February 28  --May 5  --April 15, 2015  --November 25, 2015  --July 24, 2014  --May 4, 2015  --August 10, 2014  --July 23, 2014  --February 6, 2014  --June 23, 2014  --December 21, 2014  --February 24, 2013  --November 24, 2015  --February 18, 2015  --August 5, 2015  --September 12, 2014  --November 2, 2015  --August 19, 2015  --August 17  --August 11, 2014  --October 16, 2012  --June 14, 2014  --April 1  --July 11, 2015  --November 14, 2013  --June 5  --January 18, 2015  --January 31, 2014  --February 14, 2014  --January 20, 2015  --December 19, 2010  --October 19, 2015  --September 25, 2015  --October 24, 2015  --November 26, 2014  --September 18, 2014  --April 9  --October 2, 2015  --January 29  --February 25, 2013  --June 30  --September 21, 2014  --February 22, 2011  --December 20, 2010  --February 1, 2012  --September 1, 2014  --December 6, 2015  --July 14, 2015  --April 25  --September 28, 2015  --December 19, 2013  --April 3  --December 7, 2015  --August 11, 2015  --February 15  --July 17  --November 10, 2013  --February 2, 2014  --September 16, 2014  --January 25, 2014  --June 1, 2013  --December 21, 2013  --November 4, 2015  --September 8, 2015  --February 6  --April 19, 2014  --February 15, 2014  --July 12, 2014  --October 28, 2012  --February 7, 2013  --February 9, 2015  --January 11, 2015  --December 8, 2015  --July 8, 2015  --December 31, 2014  --March 15  --July 25, 2014  --August 30  --November 11, 2013  --March 1, 2014  --June 10  --April 22, 2015  --October 30, 2015  --October 30, 2014  --August 27, 2013  --November 22, 2014  --December 2, 2014  --April 18, 2014  --April 14  --January 3, 2015  --August 5  --December 16, 2015  --November 25, 2014  --October 25, 2014  --April 30, 2015  --December 3, 2014  --September 26, 2013  --August 7, 2013  --July 19, 2013  --December 10, 2014  --December 9, 2015  --January 23, 2013  --February 17, 2014  --August 30, 2014  --September 12, 2013  --March 29  --May 27, 2015  --July 25  --January 13  --July 13  --March 6, 2015  --July 11  --August 25  --July 18, 2013  --January 24, 2014  --February 25, 2014  --November 13, 2014  --April 13  --April 8, 2015  --January 17, 2014  --November 14, 2015  --April 6, 2015  --June 12  --November 23, 2012  --July 5, 2013  --June 21, 2013  --February 16  --June 22, 2015  --August 13, 2014  --May 29, 2015  --October 19, 2012  --February 19, 2015  --December 18, 2014  --June 30, 2013  --February 5  --June 13, 2015  --February 20, 2014  --January 30, 2015  --July 16, 2013  --December 16, 2012  --February 19  --April 16, 2015  --May 8, 2013  --November 18, 2013  --March 15, 2014  --March 21  --May 17, 2015  --December 14, 2014  --October 20, 2014  --May 31, 2012  --July 2  --January 28  --November 24, 2014  --September 25, 2012  --August 24, 2014  --October 23, 2015  --February 8, 2013  --May 25, 2013  --January 26, 2014  --June 2  --March 14  --October 5, 2014  --May 18, 2014  --June 20, 2015  --August 3, 2014  --December 20, 2012  --May 13, 2014  --January 13, 2014  --May 10, 2015  --December 18, 2013  --December 4, 2014  --March 8, 2015  --July 25, 2015  --May 8  --December 24, 2014  --July 2, 2014  --July 27  --April 6, 2014  --December 8, 2014  --April 27, 2015  --July 26, 2012  --August 23, 2015  --June 21  --April 20, 2015  --December 1, 2014  --November 23, 2010  --March 1  --March 18, 2015  --May 11  --December 12, 2015  --October 1, 2013  --December 7, 2014  --March 25, 2015  --October 3, 2014  --November 6, 2014  --December 3, 2015  --April 29, 2014  --September 20, 2013  --December 31, 2015  --January 20  --April 21  --February 26, 2015  --September 21, 2015  --October 2, 2013  --February 11, 2013  --April 8, 2014  --July 5, 2012  --May 30, 2012  --February 19, 2013  --August 18, 2014  --January 6  --September 25, 2014  --January 3, 2014  --August 20  --August 10  --May 5, 2013  --March 27, 2014  --March 3, 2014  --August 18, 2015  --June 7  --August 27, 2014  --November 7, 2014  --April 30  --July 14, 2013  --April 2, 2013  --July 8, 2014  --April 17  --June 9  --October 11, 2015  --October 29, 2013  --August 25, 2013  --December 13, 2012  --November 24, 2012  --June 17, 2015  --June 4  --April 11  --December 11, 2012  --August 22, 2014  --September 10, 2013  --May 17, 2013  --September 19, 2015  --April 14, 2014  --April 16, 2014  --June 28, 2015  --December 13, 2013  --December 9, 2013  --February 25  --June 3, 2014  --February 8, 2015  --January 22, 2012  --April 12, 2015  --March 31, 2014  --December 31, 2013  --April 27  --October 21, 2015  --December 5, 2014  --April 7  --December 10, 2015  --August 14, 2014  --June 13  --May 15, 2015  --March 19, 2013  --March 15, 2015  --May 12, 2015  --November 12, 2014  --February 4, 2013  --September 6, 2014  --November 9, 2012  --October 9, 2015  --August 27  --August 30, 2015  --August 6  --August 18  --June 22, 2011  --April 20, 2014  --June 29, 2013  --September 28, 2012  --April 22, 2011  --March 22, 2011  --December 12, 2010  --April 25, 2015  --January 21, 2014  --January 19, 2014  --November 30, 2015  --May 11, 2013  --March 23, 2013  --April 10, 2015  --April 5, 2015  --March 9  --January 17  --October 8, 2014  --March 26, 2013  --July 27, 2014  --June 6  --July 28, 2013  --March 16, 2015  --November 16, 2015  --March 23  --September 7, 2015  --June 10, 2014  --September 18  --August 2  --June 8, 2014  --February 16, 2015  --July 1  --May 7, 2015  --June 16, 2012  --October 7, 2013  --November 10, 2014  --December 22, 2014  --August 9  --January 8  --July 19  --July 15, 2014  --January 18, 2014  --June 12, 2014  --July 12, 2015  --March 3  --April 16  --August 4, 2015  --February 11, 2014  --March 11, 2014  --July 15  --September 13  --September 4, 2014  --June 4, 2015  --April 4, 2014  --November 17, 2014  --June 24, 2013  --October 24, 2011  --July 21, 2013  --October 12, 2014  --May 28, 2013  --January 29, 2015  --June 9, 2015  --November 14, 2012  --May 10  --August 12, 2015  --November 22, 2011  --July 27, 2015  --January 23  --September 24, 2014  --November 9, 2013  --November 22, 2013  --October 22, 2015  --December 28, 2014  --November 17, 2015  --January 11, 2013  --December 18, 2011  --June 8, 2012  --January 2, 2015  --March 24, 2014  --June 6, 2014  --June 15, 2013  --March 19, 2015  --June 15, 2014  --April 5  --February 20, 2015  --March 19, 2012  --August 23, 2011  --April 30, 2014  --April 21, 2013  --November 21, 2015  --August 28, 2012  --July 13, 2013  --March 15, 2013  --September 26, 2012  --September 5  --August 8  --June 19  --September 6  --October 23, 2014  --July 25, 2013  --August 24  --July 22  --May 11, 2014  --February 12, 2013  --August 25, 2012  --September 17, 2015  --February 22, 2013  --July 22, 2014  --October 18, 2013  --January 22, 2014  --October 11, 2014  --June 2, 2015  --March 18  --August 9, 2015  --April 8  --May 1, 2013  --February 24, 2015  --December 30, 2012  --May 3  --January 4, 2013  --July 9, 2011  --August 28, 2015  --February 12  --May 19, 2014  --May 22, 2014  --September 7, 2013  --August 23, 2013  --July 16, 2015  --April 22, 2014  --September 5, 2013  --January 25, 2013  --September 10, 2014  --January 24, 2015  --August 7, 2012  --March 16  --June 1, 2012  --January 8, 2012  --July 24, 2011  --March 14, 2013  --May 12, 2013  --April 23, 2015  --July 17, 2013  --August 16, 2015  --October 31, 2013  --February 16, 2013  --July 9, 2012  --January 5  --August 1  --September 1  --November 7, 2015  --March 28, 2013  --December 23, 2011  --November 19, 2013  --July 29, 2011  --May 6, 2011  --December 29, 2011  --July 6, 2011  --February 11, 2015  --July 30, 2014  --June 1  --March 4, 2014  --July 13, 2012  --December 13, 2011  --November 27, 2011  --December 26, 2010  --December 11, 2014  --May 9, 2012  --April 29, 2012  --March 23, 2012  --June 23, 2013  --May 9  --January 8, 2014  --November 2, 2014  --March 19, 2014  --January 2, 2012  --March 8, 2012  --September 25, 2011  --September 7, 2011  --February 9  --August 15, 2012  --October 15, 2012  --October 14, 2012  --September 17, 2014  --May 21  --March 31, 2015  --May 19  --May 2  --September 13, 2013  --September 9, 2013  --March 13  --December 5, 2013  --February 4  --October 24, 2012  --October 23, 2012  --February 22, 2012  --November 21, 2014  --November 15, 2014  --October 2, 2012  --November 26, 2012  --September 22, 2015  --July 21  --May 13, 2013  --August 19, 2013  --April 23  --November 19, 2012  --October 12, 2012  --September 11, 2012  --September 9, 2012  --April 24  --October 3, 2012  --January 12  --August 4  --September 19, 2014  --June 5, 2014  --August 5, 2014  --January 26, 2013  --February 1  --March 16, 2014  --March 18, 2013  --October 12, 2013  --August 6, 2013  --November 15, 2013  --October 31, 2011  --October 3, 2011  --August 25, 2011  --August 3, 2011  --July 28, 2015  --August 31, 2014  --December 28, 2011  --October 5, 2012  --November 13, 2013  --August 21, 2013  --June 4, 2013  --July 11, 2012  --July 3, 2011  --June 16, 2014  --November 5, 2015  --March 30, 2014  --November 1, 2013  --March 9, 2015  --April 1, 2013  --August 15, 2013  --August 5, 2013  --April 18, 2013  --January 5, 2013  --July 16, 2012  --December 31, 2011  --September 14, 2013  --March 2, 2014  --October 10, 2013  --April 27, 2014  --February 26, 2013  --July 30, 2012  --February 20, 2012  --January 20, 2013  --July 26  --December 29, 2012  --November 23, 2013  --May 18, 2012  --December 9, 2014  --June 7, 2013  --October 13, 2013  --November 17, 2013  --April 6, 2013  --March 4, 2013  --January 13, 2013  --December 12, 2012  --October 19, 2013  --April 24, 2013  --November 2, 2013  --October 11, 2013  --September 15, 2015  --March 17  --April 1, 2014  --December 17, 2012  --May 27, 2014  --June 19, 2013  --September 20, 2012  --December 1, 2012  --April 25, 2013  --May 5, 2012  --May 18, 2011  --December 3, 2013  --February 2, 2012  --April 26, 2011  --April 3, 2011  --March 6, 2011  --October 19, 2014  --October 27, 2015  --March 9, 2013  --February 23, 2013  --March 5, 2013  --March 19, 2011  --August 3, 2013  --September 21, 2013  --February 10, 2015  --May 9, 2013  --March 24, 2015  --December 21, 2010  --May 3, 2013  --January 16, 2014  --May 22  --August 11, 2013  --November 12, 2013  --October 15, 2013  --September 19, 2013  --July 20, 2013  --September 16, 2015  --December 31, 2012  --April 19, 2015  --March 4, 2015  --November 8, 2012  --July 30, 2013  --August 26, 2012  --June 3, 2012  --January 11, 2012  --May 23, 2013  --April 8, 2013  --April 6  --July 14, 2012  --August 11  --June 22, 2012  --April 17, 2015  --September 29, 2013  --April 16, 2012  --June 3, 2013  --December 10, 2011  --October 13, 2015  --September 1, 2013  --November 19, 2014  --March 17, 2015  --June 14, 2012  --August 15, 2011  --December 6, 2012  --January 19, 2013  --December 21, 2012  --September 13, 2012  --September 14, 2011  --March 24, 2012  --November 18, 2012  --February 10, 2013  --February 2  --May 4, 2014  --March 22, 2013  --June 6, 2013  --May 21, 2011  --May 3, 2011  --February 28, 2011  --February 9, 2011  --January 17, 2011  --January 3, 2011  --August 1, 2011  --September 22, 2012  --October 15, 2011  --July 10, 2011  --May 20, 2013  --October 3, 2013  --August 16, 2012  --March 7, 2013  --May 16, 2012  --March 9, 2014  --January 1, 2013  --January 10, 2013  --August 24, 2012  --August 17, 2012  --September 6, 2013  --November 1, 2012  --June 15, 2012  --March 30, 2013  --April 25, 2011  --October 26, 2013  --April 16, 2013  --March 27, 2012  --February 14, 2012  --March 29, 2013  --December 19, 2012  --August 28, 2011  --October 6, 2013  --December 3, 2012  --November 9, 2014  --November 2, 2012  --May 4, 2013  --July 2, 2013  --July 29, 2013  --November 5, 2013  --May 30, 2013  --July 6, 2012  --June 18, 2013  --June 17, 2013  --July 30, 2011  --July 4, 2011  --March 5, 2011  --January 5, 2011  --December 17, 2010  --December 7, 2010  --March 21, 2013  --March 2, 2013  --November 7, 2013  --January 3, 2013  --May 14, 2013  --October 18, 2011  --June 8, 2011  --June 2, 2011  --May 29, 2011  --April 15, 2011  --January 30, 2013  --June 5, 2013  --November 11, 2012  --June 4, 2012  --August 19, 2011  --September 11, 2011  --August 9, 2012  --December 18, 2012  --February 13, 2012  --February 17, 2012  --July 22, 2011  --April 7, 2014  --April 3, 2013  --August 10, 2013  --January 12, 2013  --June 27, 2013  --June 30, 2012  --January 2, 2013  --September 18, 2012  --July 20, 2012  --August 14, 2011  --March 29, 2012  --May 14, 2014  --May 26, 2013  --September 11, 2013  --February 13, 2013  --November 26, 2010  --November 20, 2013  --December 25, 2012  --October 28, 2013  --May 15, 2013  --January 21, 2011  --August 31, 2012  --January 23, 2011  --November 10, 2012  --September 27, 2013  --February 20, 2013  --October 11, 2012  --October 9, 2013  --September 6, 2012  --January 18, 2012  --February 3, 2012  --March 10, 2012  --November 3, 2013  --August 29, 2012  --June 20, 2013  --May 7, 2013  --June 9, 2012  --February 8, 2012  --November 14, 2011  --October 8, 2011  --October 6, 2011  --September 21, 2012  --October 5, 2013  --July 22, 2013  --October 25, 2013  --April 13, 2013  --November 25, 2011  --October 4, 2013  --September 5, 2012  --December 23, 2012  --August 13, 2013  --October 23, 2013  --July 18, 2012  --November 25, 2012  --August 8, 2012  --April 12, 2012  --October 6, 2012  --April 28, 2013  --May 29, 2013  --July 27, 2011  --September 19, 2012  --August 18, 2013  --October 8, 2012  --July 29, 2012  --August 6, 2011  --July 1, 2011  --June 28, 2013  --September 28, 2013  --May 19, 2013  --October 21, 2014  --May 20, 2011  --September 29, 2012  --May 24, 2013  --February 2, 2013  --January 6, 2013  --May 1, 2012  --February 27, 2013  --November 6, 2013  --December 15, 2012  --March 16, 2013  --December 27, 2012  --February 14, 2011  --July 10, 2012  --September 4, 2012  --June 10, 2013  --August 4, 2012  --October 30, 2012  --August 12, 2013  --September 22, 2011  --December 3, 2011  --January 23, 2012  --February 21, 2013  --November 7, 2012  --January 14, 2013  --July 8, 2013  --March 1, 2013  --April 11, 2013  --August 21, 2012  --October 7, 2011  --November 4, 2012  --April 26, 2013  --June 12, 2013  --December 10, 2012  --May 31, 2013  --August 30, 2013  --September 4, 2013  --October 30, 2013  --March 8, 2013  --March 6, 2013  --September 2, 2012  --July 24, 2012  --July 27, 2013  --May 10, 2012  --November 29, 2012  --October 27, 2011  --August 5, 2011  --August 20, 2012  --July 1, 2012  --May 2, 2013  --December 22, 2012  --May 19, 2012  --March 13, 2013  --June 26, 2013  --March 31, 2013  --January 7, 2013  --August 18, 2012  --November 4, 2011  --July 2, 2011  --August 16, 2013  --September 12, 2011  --October 31, 2012  --June 12, 2012  --September 15, 2012  --July 24, 2013  --June 22, 2013  --June 26, 2012  --July 4, 2012  --June 10, 2012  --March 3, 2012  --September 23, 2011  --August 11, 2012  --June 24, 2011  --April 1, 2012  --June 27, 2012  --November 8, 2013  --May 23, 2012  --July 31, 2013  --December 15, 2011  --February 26, 2012  --March 24, 2013  --September 8, 2012  --July 25, 2012  --July 1, 2013  --July 23, 2013  --November 11, 2011  --April 22, 2012  --April 10, 2013  --October 22, 2013  --December 26, 2012  --June 2, 2013  --April 5, 2013  --June 21, 2012  --April 11, 2012  --March 17, 2012  --September 16, 2011  --December 8, 2012  --August 4, 2011  --October 16, 2013  --July 10, 2013  --January 15, 2013  --September 7, 2012  --March 31, 2012  --February 10, 2012  --December 18, 2010  --January 31, 2013  --November 16, 2011  --November 15, 2011  --January 8, 2013  --March 1, 2012  --December 21, 2011  --July 3, 2013  --April 19, 2013  --August 17, 2011  --December 22, 2011  --October 13, 2011  --November 24, 2013  --August 24, 2013  --October 17, 2012  --June 6, 2012  --August 1, 2013  --October 22, 2012  --September 30, 2012  --September 1, 2012  --October 17, 2013  --April 14, 2013  --February 1, 2013  --March 27, 2013  --August 30, 2012  --June 29, 2012  --May 3, 2012  --February 25, 2011  --February 4, 2011  --August 28, 2013  --July 9, 2013  --July 7, 2012  --April 20, 2012  --September 8, 2011  --April 24, 2012  --December 26, 2011  --October 25, 2012  --July 8, 2011  --June 5, 2011  --March 21, 2011  --January 7, 2011  --September 24, 2013  --January 16, 2013  --August 2, 2013  --August 22, 2012  --September 16, 2012  --August 22, 2013  --May 16, 2011  --February 5, 2011  --January 1, 2012  --May 27, 2013  --September 16, 2013  --July 4, 2013  --February 20, 2011  --February 14, 2013  --June 11, 2013  --April 29, 2013  --April 7, 2013  --January 10, 2012  --November 12, 2012  --December 5, 2012  --May 21, 2013  --July 21, 2012  --July 16, 2011  --January 22, 2013  --July 6, 2013  --August 24, 2011  --June 18, 2012  --December 17, 2011  --November 22, 2010  --February 27, 2011  --January 12, 2011  --December 24, 2010  --May 15, 2012  --October 21, 2013  --November 15, 2012  --May 22, 2013  --October 16, 2010  --April 12, 2013  --September 10, 2012  --August 26, 2013  --October 18, 2012  --July 12, 2011  --January 8, 2011  --December 31, 2010  --December 9, 2010  --August 4, 2013  --August 9, 2013  --January 29, 2013  --April 20, 2013  --December 6, 2011  --October 4, 2012  --July 5, 2011  --March 21, 2012  --January 28, 2011  --December 28, 2012  --November 9, 2011  --January 6, 2012  --November 27, 2012  --November 17, 2012  --October 26, 2012  --August 13, 2012  --September 22, 2013  --November 17, 2011  --September 9, 2011  --October 27, 2012  --August 1, 2012  --March 17, 2013  --February 6, 2012  --June 11, 2012  --June 20, 2012  --April 23, 2013  --June 6, 2011  --November 28, 2010  --August 14, 2012  --May 10, 2013  --September 19, 2011  --September 18, 2013  --May 16, 2013  --September 30, 2011  --June 13, 2013  --November 24, 2010  --July 11, 2011  --April 20, 2011  --September 15, 2011  --December 24, 2011  --August 2, 2012  --July 8, 2012  --January 22, 2011  --August 18, 2011  --July 23, 2012  --June 19, 2011  --June 18, 2011  --June 5, 2012  --December 8, 2011  --October 29, 2012  --May 20, 2012  --January 25, 2012  --November 3, 2011  --June 27, 2011  --November 6, 2012  --October 20, 2011  --October 9, 2012  --September 10, 2011  --April 17, 2013  --December 7, 2012  --August 10, 2012  --January 28, 2013  --December 2, 2012  --August 29, 2013  --September 30, 2013  --December 14, 2012  --May 9, 2011  --March 4, 2012  --October 25, 2010  --September 17, 2013  --December 4, 2011  --March 12, 2013  --November 26, 2011  --September 6, 2011  --July 31, 2011  --July 17, 2011  --July 14, 2011  --July 13, 2011  --November 20, 2010  --November 19, 2010  --August 12, 2012  --May 2, 2011  --September 26, 2011  --January 21, 2012  --June 13, 2012  --September 2, 2013  --March 22, 2012  --March 11, 2012  --December 9, 2011  --March 25, 2011  --September 3, 2013  --May 28, 2011  --August 3, 2012  --April 4, 2013  --June 16, 2013  --April 15, 2013  --December 15, 2010  --August 5, 2012  --February 29, 2012  --November 21, 2012  --August 27, 2011  --May 17, 2011  --May 17, 2012  --April 9, 2013  --August 11, 2011  --May 13, 2012  --July 7, 2011  --March 10, 2011  --February 25, 2012  --April 30, 2013  --October 12, 2011  --May 10, 2011  --February 6, 2013  --September 20, 2011  --October 10, 2012  --October 21, 2011  --April 14, 2012  --March 3, 2013  --June 4, 2011  --June 3, 2011  --January 29, 2011  --December 25, 2010  --March 28, 2012  --November 16, 2012  --June 13, 2011  --October 28, 2011  --April 13, 2012  --September 24, 2011  --January 4, 2012  --March 10, 2013  --November 28, 2012  --March 26, 2012  --February 5, 2013  --June 15, 2011  --March 30, 2012  --December 2, 2011  --February 15, 2011  --August 8, 2013  --November 20, 2012  --April 7, 2012  --March 2, 2012  --July 19, 2011  --April 27, 2012  --June 20, 2011  --July 3, 2012  --March 12, 2012  --May 19, 2011  --November 29, 2011  --July 25, 2011  --October 1, 2011  --January 5, 2012  --January 14, 2012  --January 26, 2012  --April 10, 2012  --June 26, 2011  --May 28, 2012  --December 14, 2010  --December 14, 2011  --October 10, 2011  --May 24, 2012  --July 31, 2012  --January 26, 2011  --January 20, 2012  --November 5, 2012  --August 6, 2012  --January 13, 2012  --December 23, 2010  --February 17, 2013  --May 2, 2012  --April 30, 2012  --March 11, 2013  --February 15, 2012  --September 23, 2012  --December 3, 2010  --July 27, 2012  --March 18, 2012  --November 8, 2011  --August 7, 2011  --November 25, 2010  --August 2, 2011  --March 26, 2011  --March 11, 2011  --April 4, 2012  --December 27, 2010  --December 11, 2010  --September 21, 2011  --August 31, 2011  --September 29, 2011  --October 26, 2011  --May 12, 2012  --February 17, 2011  --January 30, 2011  --January 4, 2011  --November 21, 2011  --August 21, 2011  --March 13, 2012  --June 19, 2012  --April 28, 2012  --July 28, 2011  --February 5, 2012  --June 11, 2011  --November 30, 2010  --May 25, 2012  --February 4, 2012  --February 24, 2012  --April 2, 2012  --January 15, 2011  --January 30, 2012  --September 4, 2011  --May 26, 2011  --May 29, 2012  --February 16, 2012  --November 30, 2011  --October 5, 2011  --September 17, 2012  --December 16, 2011  --January 19, 2012  --December 25, 2011  --April 19, 2012  --April 3, 2012  --January 9, 2012  --March 7, 2012  --June 28, 2012  --April 15, 2012  --May 7, 2012  --February 18, 2013  --November 13, 2012  --November 3, 2012  --"
     ]
    }
   ],
   "source": [
    "# Extract unique date patterns using regular expressions.\n",
    "date_patterns = df_reviews_final['posted'].str.extract(r'(\\b\\w+ \\d{1,2},? \\d{4}\\b|\\b\\w+ \\d{1,2}\\b)')[0].unique()\n",
    "\n",
    "# Print the unique date patterns.\n",
    "for pattern in date_patterns:\n",
    "    print(f\"{pattern}  \", end=\"--\")"
   ]
  },
  {
   "cell_type": "markdown",
   "metadata": {},
   "source": [
    "I found 2 date formats in the **posted** column: one as MM/DD/YYYY and the other as MM/DD."
   ]
  },
  {
   "cell_type": "code",
   "execution_count": 53,
   "metadata": {},
   "outputs": [
    {
     "data": {
      "text/html": [
       "<div>\n",
       "<style scoped>\n",
       "    .dataframe tbody tr th:only-of-type {\n",
       "        vertical-align: middle;\n",
       "    }\n",
       "\n",
       "    .dataframe tbody tr th {\n",
       "        vertical-align: top;\n",
       "    }\n",
       "\n",
       "    .dataframe thead th {\n",
       "        text-align: right;\n",
       "    }\n",
       "</style>\n",
       "<table border=\"1\" class=\"dataframe\">\n",
       "  <thead>\n",
       "    <tr style=\"text-align: right;\">\n",
       "      <th></th>\n",
       "      <th>funny</th>\n",
       "      <th>posted</th>\n",
       "      <th>last_edited</th>\n",
       "      <th>item_id</th>\n",
       "      <th>helpful</th>\n",
       "      <th>recommend</th>\n",
       "      <th>review</th>\n",
       "      <th>user_id</th>\n",
       "      <th>user_url</th>\n",
       "      <th>year</th>\n",
       "    </tr>\n",
       "  </thead>\n",
       "  <tbody>\n",
       "    <tr>\n",
       "      <th>6</th>\n",
       "      <td>NaN</td>\n",
       "      <td>Posted February 3.</td>\n",
       "      <td>NaN</td>\n",
       "      <td>248820</td>\n",
       "      <td>No ratings yet</td>\n",
       "      <td>True</td>\n",
       "      <td>A suitably punishing roguelike platformer.  Wi...</td>\n",
       "      <td>evcentric</td>\n",
       "      <td>http://steamcommunity.com/id/evcentric</td>\n",
       "      <td>Not Available</td>\n",
       "    </tr>\n",
       "    <tr>\n",
       "      <th>7</th>\n",
       "      <td>NaN</td>\n",
       "      <td>Posted December 4, 2015.</td>\n",
       "      <td>Last edited December 5, 2015.</td>\n",
       "      <td>370360</td>\n",
       "      <td>No ratings yet</td>\n",
       "      <td>True</td>\n",
       "      <td>\"Run for fun? What the hell kind of fun is that?\"</td>\n",
       "      <td>evcentric</td>\n",
       "      <td>http://steamcommunity.com/id/evcentric</td>\n",
       "      <td>2015</td>\n",
       "    </tr>\n",
       "  </tbody>\n",
       "</table>\n",
       "</div>"
      ],
      "text/plain": [
       "  funny                    posted                    last_edited  item_id  \\\n",
       "6   NaN        Posted February 3.                            NaN   248820   \n",
       "7   NaN  Posted December 4, 2015.  Last edited December 5, 2015.   370360   \n",
       "\n",
       "          helpful  recommend  \\\n",
       "6  No ratings yet       True   \n",
       "7  No ratings yet       True   \n",
       "\n",
       "                                              review    user_id  \\\n",
       "6  A suitably punishing roguelike platformer.  Wi...  evcentric   \n",
       "7  \"Run for fun? What the hell kind of fun is that?\"  evcentric   \n",
       "\n",
       "                                 user_url           year  \n",
       "6  http://steamcommunity.com/id/evcentric  Not Available  \n",
       "7  http://steamcommunity.com/id/evcentric           2015  "
      ]
     },
     "execution_count": 53,
     "metadata": {},
     "output_type": "execute_result"
    }
   ],
   "source": [
    "# Extract the year from the posted column and creates the year column using regular expressions.\n",
    "df_reviews_final['year'] = df_reviews_final['posted'].str.extract(r'\\b(\\d{4})\\b')\n",
    "\n",
    "# Handle cases where the year couldn't be extracted.\n",
    "df_reviews_final['year'].fillna('Not Available', inplace=True)\n",
    "\n",
    "# Checking the result of both conditions.\n",
    "df_reviews_final.iloc[6:8]"
   ]
  },
  {
   "cell_type": "code",
   "execution_count": 49,
   "metadata": {},
   "outputs": [
    {
     "name": "stdout",
     "output_type": "stream",
     "text": [
      "Count for 'Not Available': 9902\n"
     ]
    }
   ],
   "source": [
    "# Count occurrences of each value in the 'year' column\n",
    "year_counts = df_reviews_final['year'].value_counts()\n",
    "\n",
    "# Display the count specifically for 'Not Available'\n",
    "not_available_count = year_counts.get('Not Available', 0)\n",
    "print(f\"Count for 'Not Available': {not_available_count}\")"
   ]
  },
  {
   "cell_type": "markdown",
   "metadata": {},
   "source": [
    "I checked the results, and I found 9,902 dates with a missing year."
   ]
  },
  {
   "cell_type": "code",
   "execution_count": 54,
   "metadata": {},
   "outputs": [],
   "source": [
    "# Remove rows where 'year' is equal to 'Not Available' and reset the index\n",
    "df_reviews_final = df_reviews_final[df_reviews_final['year'] != 'Not Available'].reset_index(drop=True)"
   ]
  },
  {
   "cell_type": "code",
   "execution_count": 55,
   "metadata": {},
   "outputs": [
    {
     "data": {
      "text/html": [
       "<div>\n",
       "<style scoped>\n",
       "    .dataframe tbody tr th:only-of-type {\n",
       "        vertical-align: middle;\n",
       "    }\n",
       "\n",
       "    .dataframe tbody tr th {\n",
       "        vertical-align: top;\n",
       "    }\n",
       "\n",
       "    .dataframe thead th {\n",
       "        text-align: right;\n",
       "    }\n",
       "</style>\n",
       "<table border=\"1\" class=\"dataframe\">\n",
       "  <thead>\n",
       "    <tr style=\"text-align: right;\">\n",
       "      <th></th>\n",
       "      <th>funny</th>\n",
       "      <th>posted</th>\n",
       "      <th>last_edited</th>\n",
       "      <th>item_id</th>\n",
       "      <th>helpful</th>\n",
       "      <th>recommend</th>\n",
       "      <th>review</th>\n",
       "      <th>user_id</th>\n",
       "      <th>user_url</th>\n",
       "      <th>year</th>\n",
       "    </tr>\n",
       "  </thead>\n",
       "  <tbody>\n",
       "    <tr>\n",
       "      <th>6</th>\n",
       "      <td>NaN</td>\n",
       "      <td>Posted December 4, 2015.</td>\n",
       "      <td>Last edited December 5, 2015.</td>\n",
       "      <td>370360</td>\n",
       "      <td>No ratings yet</td>\n",
       "      <td>True</td>\n",
       "      <td>\"Run for fun? What the hell kind of fun is that?\"</td>\n",
       "      <td>evcentric</td>\n",
       "      <td>http://steamcommunity.com/id/evcentric</td>\n",
       "      <td>2015</td>\n",
       "    </tr>\n",
       "    <tr>\n",
       "      <th>7</th>\n",
       "      <td>NaN</td>\n",
       "      <td>Posted November 3, 2014.</td>\n",
       "      <td>NaN</td>\n",
       "      <td>237930</td>\n",
       "      <td>No ratings yet</td>\n",
       "      <td>True</td>\n",
       "      <td>Elegant integration of gameplay, story, world ...</td>\n",
       "      <td>evcentric</td>\n",
       "      <td>http://steamcommunity.com/id/evcentric</td>\n",
       "      <td>2014</td>\n",
       "    </tr>\n",
       "  </tbody>\n",
       "</table>\n",
       "</div>"
      ],
      "text/plain": [
       "  funny                    posted                    last_edited  item_id  \\\n",
       "6   NaN  Posted December 4, 2015.  Last edited December 5, 2015.   370360   \n",
       "7   NaN  Posted November 3, 2014.                            NaN   237930   \n",
       "\n",
       "          helpful  recommend  \\\n",
       "6  No ratings yet       True   \n",
       "7  No ratings yet       True   \n",
       "\n",
       "                                              review    user_id  \\\n",
       "6  \"Run for fun? What the hell kind of fun is that?\"  evcentric   \n",
       "7  Elegant integration of gameplay, story, world ...  evcentric   \n",
       "\n",
       "                                 user_url  year  \n",
       "6  http://steamcommunity.com/id/evcentric  2015  \n",
       "7  http://steamcommunity.com/id/evcentric  2014  "
      ]
     },
     "execution_count": 55,
     "metadata": {},
     "output_type": "execute_result"
    }
   ],
   "source": [
    "# checking the result.\n",
    "df_reviews_final.iloc[6:8]"
   ]
  },
  {
   "cell_type": "markdown",
   "metadata": {},
   "source": [
    "I decided to delete the rows with a missing year because this parameter is crucial for the entire project."
   ]
  },
  {
   "cell_type": "markdown",
   "metadata": {},
   "source": [
    "<div style=\"text-align: justify\">\n",
    "\n",
    "### 6. Deleting columns\n",
    "\n",
    "I considered that the columns **funny**, **last_edited**, **posted reviews**, **helpful**, and **user_url** were not necessary for the project.\n",
    "\n",
    "</div>"
   ]
  },
  {
   "cell_type": "code",
   "execution_count": 57,
   "metadata": {},
   "outputs": [],
   "source": [
    "# Deleting columns\n",
    "columns_to_drop = ['funny', 'last_edited', 'posted', 'reviews', 'helpful', 'user_url']\n",
    "\n",
    "# Drop the specified columns\n",
    "df_reviews_final = df_reviews_final.drop(columns=columns_to_drop, errors='ignore')"
   ]
  },
  {
   "cell_type": "code",
   "execution_count": 58,
   "metadata": {},
   "outputs": [
    {
     "data": {
      "text/html": [
       "<div>\n",
       "<style scoped>\n",
       "    .dataframe tbody tr th:only-of-type {\n",
       "        vertical-align: middle;\n",
       "    }\n",
       "\n",
       "    .dataframe tbody tr th {\n",
       "        vertical-align: top;\n",
       "    }\n",
       "\n",
       "    .dataframe thead th {\n",
       "        text-align: right;\n",
       "    }\n",
       "</style>\n",
       "<table border=\"1\" class=\"dataframe\">\n",
       "  <thead>\n",
       "    <tr style=\"text-align: right;\">\n",
       "      <th></th>\n",
       "      <th>item_id</th>\n",
       "      <th>recommend</th>\n",
       "      <th>review</th>\n",
       "      <th>user_id</th>\n",
       "      <th>year</th>\n",
       "    </tr>\n",
       "  </thead>\n",
       "  <tbody>\n",
       "    <tr>\n",
       "      <th>0</th>\n",
       "      <td>1250</td>\n",
       "      <td>True</td>\n",
       "      <td>Simple yet with great replayability. In my opi...</td>\n",
       "      <td>76561197970982479</td>\n",
       "      <td>2011</td>\n",
       "    </tr>\n",
       "    <tr>\n",
       "      <th>1</th>\n",
       "      <td>22200</td>\n",
       "      <td>True</td>\n",
       "      <td>It's unique and worth a playthrough.</td>\n",
       "      <td>76561197970982479</td>\n",
       "      <td>2011</td>\n",
       "    </tr>\n",
       "    <tr>\n",
       "      <th>2</th>\n",
       "      <td>43110</td>\n",
       "      <td>True</td>\n",
       "      <td>Great atmosphere. The gunplay can be a bit chu...</td>\n",
       "      <td>76561197970982479</td>\n",
       "      <td>2011</td>\n",
       "    </tr>\n",
       "    <tr>\n",
       "      <th>3</th>\n",
       "      <td>251610</td>\n",
       "      <td>True</td>\n",
       "      <td>I know what you think when you see this title ...</td>\n",
       "      <td>js41637</td>\n",
       "      <td>2014</td>\n",
       "    </tr>\n",
       "    <tr>\n",
       "      <th>4</th>\n",
       "      <td>227300</td>\n",
       "      <td>True</td>\n",
       "      <td>For a simple (it's actually not all that simpl...</td>\n",
       "      <td>js41637</td>\n",
       "      <td>2013</td>\n",
       "    </tr>\n",
       "    <tr>\n",
       "      <th>...</th>\n",
       "      <td>...</td>\n",
       "      <td>...</td>\n",
       "      <td>...</td>\n",
       "      <td>...</td>\n",
       "      <td>...</td>\n",
       "    </tr>\n",
       "    <tr>\n",
       "      <th>48457</th>\n",
       "      <td>730</td>\n",
       "      <td>True</td>\n",
       "      <td>Neat</td>\n",
       "      <td>76561198239215706</td>\n",
       "      <td>2015</td>\n",
       "    </tr>\n",
       "    <tr>\n",
       "      <th>48458</th>\n",
       "      <td>730</td>\n",
       "      <td>True</td>\n",
       "      <td>its FUNNNNNNNN</td>\n",
       "      <td>wayfeng</td>\n",
       "      <td>2015</td>\n",
       "    </tr>\n",
       "    <tr>\n",
       "      <th>48459</th>\n",
       "      <td>253980</td>\n",
       "      <td>True</td>\n",
       "      <td>Awesome fantasy game if you don't mind the gra...</td>\n",
       "      <td>76561198251004808</td>\n",
       "      <td>2015</td>\n",
       "    </tr>\n",
       "    <tr>\n",
       "      <th>48460</th>\n",
       "      <td>730</td>\n",
       "      <td>True</td>\n",
       "      <td>Prettyy Mad Game</td>\n",
       "      <td>72947282842</td>\n",
       "      <td>2015</td>\n",
       "    </tr>\n",
       "    <tr>\n",
       "      <th>48461</th>\n",
       "      <td>730</td>\n",
       "      <td>True</td>\n",
       "      <td>AMAZING GAME 10/10</td>\n",
       "      <td>ApxLGhost</td>\n",
       "      <td>2015</td>\n",
       "    </tr>\n",
       "  </tbody>\n",
       "</table>\n",
       "<p>48462 rows × 5 columns</p>\n",
       "</div>"
      ],
      "text/plain": [
       "       item_id  recommend                                             review  \\\n",
       "0         1250       True  Simple yet with great replayability. In my opi...   \n",
       "1        22200       True               It's unique and worth a playthrough.   \n",
       "2        43110       True  Great atmosphere. The gunplay can be a bit chu...   \n",
       "3       251610       True  I know what you think when you see this title ...   \n",
       "4       227300       True  For a simple (it's actually not all that simpl...   \n",
       "...        ...        ...                                                ...   \n",
       "48457      730       True                                               Neat   \n",
       "48458      730       True                                     its FUNNNNNNNN   \n",
       "48459   253980       True  Awesome fantasy game if you don't mind the gra...   \n",
       "48460      730       True                                   Prettyy Mad Game   \n",
       "48461      730       True                                 AMAZING GAME 10/10   \n",
       "\n",
       "                 user_id  year  \n",
       "0      76561197970982479  2011  \n",
       "1      76561197970982479  2011  \n",
       "2      76561197970982479  2011  \n",
       "3                js41637  2014  \n",
       "4                js41637  2013  \n",
       "...                  ...   ...  \n",
       "48457  76561198239215706  2015  \n",
       "48458            wayfeng  2015  \n",
       "48459  76561198251004808  2015  \n",
       "48460        72947282842  2015  \n",
       "48461          ApxLGhost  2015  \n",
       "\n",
       "[48462 rows x 5 columns]"
      ]
     },
     "execution_count": 58,
     "metadata": {},
     "output_type": "execute_result"
    }
   ],
   "source": [
    "# Checking the final version of the file before overwrite it.\n",
    "df_reviews_final"
   ]
  },
  {
   "cell_type": "markdown",
   "metadata": {},
   "source": [
    "<div style=\"text-align: justify\">\n",
    "\n",
    "### 5. It is time to overwrite it\n",
    "\n",
    "</div>"
   ]
  },
  {
   "cell_type": "code",
   "execution_count": 59,
   "metadata": {},
   "outputs": [],
   "source": [
    "# Overwrite the original CSV file.\n",
    "df_reviews_final.to_csv('csv/user_reviews.csv', index=False)"
   ]
  }
 ],
 "metadata": {
  "kernelspec": {
   "display_name": "Python 3",
   "language": "python",
   "name": "python3"
  },
  "language_info": {
   "codemirror_mode": {
    "name": "ipython",
    "version": 3
   },
   "file_extension": ".py",
   "mimetype": "text/x-python",
   "name": "python",
   "nbconvert_exporter": "python",
   "pygments_lexer": "ipython3",
   "version": "3.9.13"
  }
 },
 "nbformat": 4,
 "nbformat_minor": 2
}
