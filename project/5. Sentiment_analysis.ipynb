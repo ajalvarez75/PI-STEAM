{
 "cells": [
  {
   "cell_type": "markdown",
   "metadata": {},
   "source": [
    "<center>\n",
    "\n",
    "# Sentiment Analysis\n",
    "\n",
    "<center>"
   ]
  },
  {
   "cell_type": "markdown",
   "metadata": {},
   "source": [
    "<div style=\"text-align: justify\">\n",
    "\n",
    "I used TextBlob because it can assess the polarity (positive, negative, or neutral) and subjectivity (objective or subjective) of a text. I explored different thresholds and decided to use 0.3 because, in my opinion, it showed the most balanced results.\n",
    "\n",
    "</div>"
   ]
  },
  {
   "cell_type": "code",
   "execution_count": 1,
   "metadata": {},
   "outputs": [],
   "source": [
    "# Importantions.\n",
    "import pandas as pd\n",
    "from textblob import TextBlob"
   ]
  },
  {
   "cell_type": "code",
   "execution_count": 2,
   "metadata": {},
   "outputs": [],
   "source": [
    "df_sentiment = pd.read_csv('csv/user_reviews.csv')"
   ]
  },
  {
   "cell_type": "code",
   "execution_count": 3,
   "metadata": {},
   "outputs": [],
   "source": [
    "# Sentiment Analysis Function.\n",
    "def sentiment_analysis(text):\n",
    "    if pd.notna(text):\n",
    "        blob = TextBlob(text)\n",
    "        sentiment = blob.sentiment.polarity\n",
    "        if sentiment < -0.3:\n",
    "            return 0  # negative\n",
    "        elif sentiment > 0.3:\n",
    "            return 2  # positive\n",
    "        else:\n",
    "            return 1  # neutral\n",
    "    else:\n",
    "        return 1  # missing\n",
    "\n",
    "# Apply and create the sentiment_analysis column.\n",
    "df_sentiment['sentiment_analysis'] = df_sentiment['review'].apply(sentiment_analysis)"
   ]
  },
  {
   "cell_type": "code",
   "execution_count": 7,
   "metadata": {},
   "outputs": [
    {
     "name": "stdout",
     "output_type": "stream",
     "text": [
      "Positive Responses: 10814\n",
      "Negative Responses: 3881\n",
      "Neutral Responses: 43669\n"
     ]
    }
   ],
   "source": [
    "# Calculate the total count of positive, negative, and neutral responses\n",
    "positive_count = df_sentiment[df_sentiment['sentiment_analysis'] == 2].shape[0]\n",
    "negative_count = df_sentiment[df_sentiment['sentiment_analysis'] == 0].shape[0]\n",
    "neutral_count = df_sentiment[df_sentiment['sentiment_analysis'] == 1].shape[0]\n",
    "\n",
    "# Print the results\n",
    "print(f\"Positive Responses: {positive_count}\")\n",
    "print(f\"Negative Responses: {negative_count}\")\n",
    "print(f\"Neutral Responses: {neutral_count}\")"
   ]
  },
  {
   "cell_type": "code",
   "execution_count": 8,
   "metadata": {},
   "outputs": [],
   "source": [
    "# Drop the 'review' column.\n",
    "df_sentiment = df_sentiment.drop('review', axis=1)"
   ]
  },
  {
   "cell_type": "code",
   "execution_count": 9,
   "metadata": {},
   "outputs": [
    {
     "data": {
      "text/html": [
       "<div>\n",
       "<style scoped>\n",
       "    .dataframe tbody tr th:only-of-type {\n",
       "        vertical-align: middle;\n",
       "    }\n",
       "\n",
       "    .dataframe tbody tr th {\n",
       "        vertical-align: top;\n",
       "    }\n",
       "\n",
       "    .dataframe thead th {\n",
       "        text-align: right;\n",
       "    }\n",
       "</style>\n",
       "<table border=\"1\" class=\"dataframe\">\n",
       "  <thead>\n",
       "    <tr style=\"text-align: right;\">\n",
       "      <th></th>\n",
       "      <th>item_id</th>\n",
       "      <th>recommend</th>\n",
       "      <th>user_id</th>\n",
       "      <th>sentiment_analysis</th>\n",
       "    </tr>\n",
       "  </thead>\n",
       "  <tbody>\n",
       "    <tr>\n",
       "      <th>0</th>\n",
       "      <td>1250</td>\n",
       "      <td>True</td>\n",
       "      <td>76561197970982479</td>\n",
       "      <td>1</td>\n",
       "    </tr>\n",
       "  </tbody>\n",
       "</table>\n",
       "</div>"
      ],
      "text/plain": [
       "   item_id  recommend            user_id  sentiment_analysis\n",
       "0     1250       True  76561197970982479                   1"
      ]
     },
     "execution_count": 9,
     "metadata": {},
     "output_type": "execute_result"
    }
   ],
   "source": [
    "df_sentiment.head(1)"
   ]
  },
  {
   "cell_type": "code",
   "execution_count": null,
   "metadata": {},
   "outputs": [],
   "source": [
    "# Saving a new file.\n",
    "df_sentiment.to_csv('datasets/user_reviews_SA.csv', index=False)"
   ]
  }
 ],
 "metadata": {
  "kernelspec": {
   "display_name": "Python 3",
   "language": "python",
   "name": "python3"
  },
  "language_info": {
   "codemirror_mode": {
    "name": "ipython",
    "version": 3
   },
   "file_extension": ".py",
   "mimetype": "text/x-python",
   "name": "python",
   "nbconvert_exporter": "python",
   "pygments_lexer": "ipython3",
   "version": "3.9.13"
  }
 },
 "nbformat": 4,
 "nbformat_minor": 2
}
