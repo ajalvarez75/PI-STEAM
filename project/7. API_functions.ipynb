{
 "cells": [
  {
   "cell_type": "code",
   "execution_count": 3,
   "metadata": {},
   "outputs": [],
   "source": [
    "# Importations.\n",
    "import pandas as pd\n",
    "from sklearn.metrics.pairwise import cosine_similarity"
   ]
  },
  {
   "cell_type": "code",
   "execution_count": 4,
   "metadata": {},
   "outputs": [],
   "source": [
    "# Reading Datasets files.\n",
    "df_function_1_2 =  pd.read_csv('datasets/function_1_2.csv')\n",
    "df_function_3_4_5 = pd.read_csv('datasets/function_3_4_5.csv')\n",
    "df_function_item_item = pd.read_csv('datasets/function_item_item.csv')"
   ]
  },
  {
   "cell_type": "code",
   "execution_count": 9,
   "metadata": {},
   "outputs": [],
   "source": [
    "# First function.\n",
    "def PlayTimeGenre(genre: str):\n",
    "    genre = genre.lower()\n",
    "\n",
    "    # Convert playtime to hours\n",
    "    df_function_1_2['playtime_forever'] = df_function_1_2['playtime_forever'] / 60\n",
    "\n",
    "    # Filter DataFrame based on genre\n",
    "    df_filtered = df_function_1_2[df_function_1_2['genres'] == genre]\n",
    "\n",
    "    # Group by release year and sum playtime\n",
    "    grouped = df_filtered.groupby(['year'])['playtime_forever'].sum().reset_index()\n",
    "\n",
    "    # Find the release year with the maximum playtime\n",
    "    max_played_year = grouped.loc[grouped['playtime_forever'].idxmax()]['year']\n",
    "\n",
    "    result = {\"Year of release with the most playtime for Genre \" + genre: int(max_played_year)}\n",
    "\n",
    "    return result"
   ]
  },
  {
   "cell_type": "code",
   "execution_count": 8,
   "metadata": {},
   "outputs": [
    {
     "data": {
      "text/plain": [
       "{'Year of release with the most playtime for Genre rpg': 2011}"
      ]
     },
     "execution_count": 8,
     "metadata": {},
     "output_type": "execute_result"
    }
   ],
   "source": [
    "PlayTimeGenre(\"RPG\")"
   ]
  },
  {
   "cell_type": "code",
   "execution_count": 14,
   "metadata": {},
   "outputs": [],
   "source": [
    "# Second function.\n",
    "def UserForGenre(genre: str):\n",
    "    df_filter = df_function_1_2[df_function_1_2['genres'].str.lower() == genre.lower()]\n",
    "\n",
    "    if df_filter.empty:\n",
    "        return {\"Message\": f\"No data found for the genre {genre}\"}\n",
    "\n",
    "    # Group by user and release year\n",
    "    grouped = df_filter.groupby(['user_id', 'year'])['playtime_forever'].sum().reset_index()\n",
    "    grouped['playtime_forever'] = grouped['playtime_forever'] / 60\n",
    "\n",
    "    # User + hours played per genre\n",
    "    max_user = grouped.groupby('user_id')['playtime_forever'].sum().idxmax()\n",
    "    max_user_hours = grouped[grouped['user_id'] == max_user]\n",
    "\n",
    "    # Get the list of accumulated hours played per year\n",
    "    hours_per_year = max_user_hours[['year', 'playtime_forever']]\n",
    "    hours_list = [{\"Year\": int(year), \"Hours\": int(hours)} for year, hours in zip(hours_per_year['year'], hours_per_year['playtime_forever'])]\n",
    "\n",
    "    result = {\"User with the most hours played for Genre \" + genre: max_user, \"Hours played\": hours_list}\n",
    "    return result"
   ]
  },
  {
   "cell_type": "code",
   "execution_count": 15,
   "metadata": {},
   "outputs": [
    {
     "data": {
      "text/plain": [
       "{'User with the most hours played for Genre RPG': 'shinomegami',\n",
       " 'Hours played': [{'Year': 1999, 'Hours': 5},\n",
       "  {'Year': 2003, 'Hours': 8848},\n",
       "  {'Year': 2004, 'Hours': 11},\n",
       "  {'Year': 2006, 'Hours': 29},\n",
       "  {'Year': 2007, 'Hours': 2250},\n",
       "  {'Year': 2008, 'Hours': 19},\n",
       "  {'Year': 2009, 'Hours': 20},\n",
       "  {'Year': 2010, 'Hours': 687},\n",
       "  {'Year': 2011, 'Hours': 282},\n",
       "  {'Year': 2012, 'Hours': 203},\n",
       "  {'Year': 2013, 'Hours': 1753},\n",
       "  {'Year': 2014, 'Hours': 1318},\n",
       "  {'Year': 2015, 'Hours': 1831},\n",
       "  {'Year': 2016, 'Hours': 259}]}"
      ]
     },
     "execution_count": 15,
     "metadata": {},
     "output_type": "execute_result"
    }
   ],
   "source": [
    "UserForGenre(\"RPG\")"
   ]
  },
  {
   "cell_type": "code",
   "execution_count": 34,
   "metadata": {},
   "outputs": [],
   "source": [
    "# Third function.\n",
    "def UsersRecommend(year: int):\n",
    "    # Filter the DataFrame based on the given year\n",
    "    df_filter = df_function_3_4_5[df_function_3_4_5['year'] == year]\n",
    "\n",
    "    # Check if the filtered DataFrame is empty\n",
    "    if df_filter.empty:\n",
    "        return {\"Message\": f\"No recommended games found for the year {year}\"}\n",
    "\n",
    "    # Filter games with a recommendation score of 2 and group by title\n",
    "    recommended_games = df_filter[df_filter['reviews_recommend'] == 2].groupby('title').size().reset_index()\n",
    "\n",
    "    # Rename the count column and sort the DataFrame by count in descending order\n",
    "    top_games = recommended_games.rename(columns={0: 'count'}).sort_values(by='count', ascending=False).head(3)\n",
    "\n",
    "    # Create a result list with game positions and titles\n",
    "    result = [{\"Position \" + str(i + 1): game} for i, game in enumerate(top_games['title'])]\n",
    "\n",
    "    return result"
   ]
  },
  {
   "cell_type": "code",
   "execution_count": 35,
   "metadata": {},
   "outputs": [
    {
     "data": {
      "text/plain": [
       "[{'Position 1': 'Rocket League®'},\n",
       " {'Position 2': 'Emily is Away'},\n",
       " {'Position 3': 'Trove'}]"
      ]
     },
     "execution_count": 35,
     "metadata": {},
     "output_type": "execute_result"
    }
   ],
   "source": [
    "UsersRecommend(2015)"
   ]
  },
  {
   "cell_type": "code",
   "execution_count": 20,
   "metadata": {},
   "outputs": [
    {
     "data": {
      "text/html": [
       "<div>\n",
       "<style scoped>\n",
       "    .dataframe tbody tr th:only-of-type {\n",
       "        vertical-align: middle;\n",
       "    }\n",
       "\n",
       "    .dataframe tbody tr th {\n",
       "        vertical-align: top;\n",
       "    }\n",
       "\n",
       "    .dataframe thead th {\n",
       "        text-align: right;\n",
       "    }\n",
       "</style>\n",
       "<table border=\"1\" class=\"dataframe\">\n",
       "  <thead>\n",
       "    <tr style=\"text-align: right;\">\n",
       "      <th></th>\n",
       "      <th>item_id</th>\n",
       "      <th>title</th>\n",
       "      <th>recommend</th>\n",
       "      <th>developer</th>\n",
       "      <th>year</th>\n",
       "      <th>sentiment_analysis</th>\n",
       "      <th>reviews_recommend</th>\n",
       "    </tr>\n",
       "  </thead>\n",
       "  <tbody>\n",
       "    <tr>\n",
       "      <th>0</th>\n",
       "      <td>1250</td>\n",
       "      <td>Killing Floor</td>\n",
       "      <td>True</td>\n",
       "      <td>Tripwire Interactive</td>\n",
       "      <td>2009</td>\n",
       "      <td>1</td>\n",
       "      <td>2</td>\n",
       "    </tr>\n",
       "  </tbody>\n",
       "</table>\n",
       "</div>"
      ],
      "text/plain": [
       "   item_id          title  recommend             developer  year  \\\n",
       "0     1250  Killing Floor       True  Tripwire Interactive  2009   \n",
       "\n",
       "   sentiment_analysis  reviews_recommend  \n",
       "0                   1                  2  "
      ]
     },
     "execution_count": 20,
     "metadata": {},
     "output_type": "execute_result"
    }
   ],
   "source": [
    "df_function_3_4_5.head(1)"
   ]
  },
  {
   "cell_type": "code",
   "execution_count": 25,
   "metadata": {},
   "outputs": [],
   "source": [
    "# Fourth function.\n",
    "def UsersWorstDeveloper(year: int):\n",
    "    # Filter by year and games with reviews_recommend equal to 1\n",
    "    df_filtered = df_function_3_4_5[(df_function_3_4_5['year'] == year) & (df_function_3_4_5['reviews_recommend'] == 1)]\n",
    "\n",
    "    if df_filtered.empty:\n",
    "        return [{\"Message\": f\"No data found for the year {year}\"}]\n",
    "\n",
    "    # Count the frequency of games with reviews_recommend equal to 1 per developer\n",
    "    developer_counts = df_filtered['developer'].value_counts()\n",
    "\n",
    "    # Get the top 3 developers with the most games with reviews_recommend equal to 1\n",
    "    top3_worst_developers = developer_counts.nlargest(3).index.tolist()\n",
    "\n",
    "    # Create the output in the specified format\n",
    "    result = [{\"Puesto 1\": top3_worst_developers[0]}, {\"Puesto 2\": top3_worst_developers[1]}, {\"Puesto 3\": top3_worst_developers[2]}]\n",
    "    return result"
   ]
  },
  {
   "cell_type": "code",
   "execution_count": 33,
   "metadata": {},
   "outputs": [
    {
     "data": {
      "text/plain": [
       "[{'Puesto 1': 'Re-Logic'},\n",
       " {'Puesto 2': 'Reloaded Productions'},\n",
       " {'Puesto 3': 'Grey Havens'}]"
      ]
     },
     "execution_count": 33,
     "metadata": {},
     "output_type": "execute_result"
    }
   ],
   "source": [
    "UsersWorstDeveloper(2011)"
   ]
  },
  {
   "cell_type": "code",
   "execution_count": 13,
   "metadata": {},
   "outputs": [],
   "source": [
    "# Fifth function.\n",
    "def sentiment_analysis(developer_company: str):\n",
    "\n",
    "    # Convert developer_company to lowercase\n",
    "    developer_company = developer_company.lower()\n",
    "\n",
    "    df_filtered = df_function_3_4_5[df_function_3_4_5['developer'] == developer_company]\n",
    "\n",
    "    if df_filtered.empty:\n",
    "        return {developer_company: ['The developer was not found.']}\n",
    "\n",
    "    # Count the number of review records for each sentiment analysis\n",
    "    sentiment_counts = df_filtered['sentiment_analysis'].value_counts()\n",
    "\n",
    "    # Create the return dictionary in the specified format\n",
    "    result = {\n",
    "        developer_company: [\n",
    "            f\"Negative = {sentiment_counts.get(0, 0)}, Neutral = {sentiment_counts.get(1, 0)}, Positive = {sentiment_counts.get(2, 0)}\"\n",
    "        ]\n",
    "    }\n",
    "\n",
    "    return result"
   ]
  },
  {
   "cell_type": "code",
   "execution_count": 17,
   "metadata": {},
   "outputs": [
    {
     "data": {
      "text/plain": [
       "{'valve': ['Negative = 786, Neutral = 9748, Positive = 3206']}"
      ]
     },
     "execution_count": 17,
     "metadata": {},
     "output_type": "execute_result"
    }
   ],
   "source": [
    "sentiment_analysis(\"valve\")"
   ]
  },
  {
   "cell_type": "code",
   "execution_count": 16,
   "metadata": {},
   "outputs": [],
   "source": [
    "# Define the item-item game recommendation function.\n",
    "def game_recommendation(product_id: str):\n",
    "    # Convert the product_id to int\n",
    "    try:\n",
    "        product_id_int = int(product_id)\n",
    "    except ValueError:\n",
    "        return f'Invalid game ID: {product_id}'\n",
    "\n",
    "    # Filter the DataFrame to get the input game vector.\n",
    "    input_game = df_function_item_item[df_function_item_item['item_id'] == product_id_int].drop(['item_id', 'title', 'genres'], axis=1)\n",
    "\n",
    "    if input_game.empty:\n",
    "        return f'No game found with ID {product_id}'\n",
    "\n",
    "    # Filter games that the user has already played before calculating cosine similarity.\n",
    "    df_function_item_item_filtered = df_function_item_item[~df_function_item_item['item_id'].isin([product_id_int])]\n",
    "\n",
    "    # Calculate the cosine similarity between the input game and all other games.\n",
    "    similarities = cosine_similarity(input_game, df_function_item_item_filtered.drop(['item_id', 'title', 'genres'], axis=1))\n",
    "\n",
    "    # Get the indices of the most similar games.\n",
    "    similar_indices = similarities.argsort()[0][-10:][::-1]\n",
    "\n",
    "    # Get the list of recommended games excluding the ones already played.\n",
    "    recommended_games = []\n",
    "    for idx in similar_indices:\n",
    "        recommended_game = df_function_item_item_filtered.iloc[idx][['item_id', 'title', 'genres']].to_dict()\n",
    "        if recommended_game not in recommended_games:\n",
    "            recommended_games.append(recommended_game)\n",
    "        if len(recommended_games) == 5:\n",
    "            break\n",
    "\n",
    "    return recommended_games"
   ]
  },
  {
   "cell_type": "code",
   "execution_count": 17,
   "metadata": {},
   "outputs": [
    {
     "data": {
      "text/plain": [
       "[{'item_id': 209120, 'title': 'Street Fighter X Tekken', 'genres': 'Action'},\n",
       " {'item_id': 252490, 'title': 'Rust', 'genres': 'Action'},\n",
       " {'item_id': 252490, 'title': 'Rust', 'genres': 'Adventure'},\n",
       " {'item_id': 252490, 'title': 'Rust', 'genres': 'Indie'},\n",
       " {'item_id': 252490, 'title': 'Rust', 'genres': 'Massively Multiplayer'}]"
      ]
     },
     "execution_count": 17,
     "metadata": {},
     "output_type": "execute_result"
    }
   ],
   "source": [
    "game_recommendation(\"4000\")"
   ]
  }
 ],
 "metadata": {
  "kernelspec": {
   "display_name": "Python 3",
   "language": "python",
   "name": "python3"
  },
  "language_info": {
   "codemirror_mode": {
    "name": "ipython",
    "version": 3
   },
   "file_extension": ".py",
   "mimetype": "text/x-python",
   "name": "python",
   "nbconvert_exporter": "python",
   "pygments_lexer": "ipython3",
   "version": "3.9.13"
  }
 },
 "nbformat": 4,
 "nbformat_minor": 2
}
