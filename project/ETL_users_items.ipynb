{
 "cells": [
  {
   "cell_type": "markdown",
   "metadata": {},
   "source": [
    "Users_items file ETL."
   ]
  },
  {
   "cell_type": "code",
   "execution_count": 11,
   "metadata": {},
   "outputs": [],
   "source": [
    "# Importations\n",
    "import pandas as pd\n",
    "import os\n",
    "import ast"
   ]
  },
  {
   "cell_type": "code",
   "execution_count": 15,
   "metadata": {},
   "outputs": [],
   "source": [
    "# File paths\n",
    "users_items = 'PI MLOps - STEAM/users_items.json'\n",
    "users_items_csv = 'csv/users_items.csv'"
   ]
  },
  {
   "cell_type": "markdown",
   "metadata": {},
   "source": [
    "From Json format to CSV format."
   ]
  },
  {
   "cell_type": "code",
   "execution_count": 16,
   "metadata": {},
   "outputs": [],
   "source": [
    "# reading the Json data file.\n",
    "filas_items = []\n",
    "with open(users_items, encoding='utf-8') as f:\n",
    "    for line in f.readlines():\n",
    "        filas_items.append(ast.literal_eval(line))\n",
    "\n",
    "# transform the Json file into a dataframe.\n",
    "df_items = pd.DataFrame(filas_items)\n",
    "\n",
    "# save the dataframe as csv file in the csv folder.\n",
    "df_items.to_csv(users_items_csv, index=False)"
   ]
  }
 ],
 "metadata": {
  "kernelspec": {
   "display_name": "Python 3",
   "language": "python",
   "name": "python3"
  },
  "language_info": {
   "codemirror_mode": {
    "name": "ipython",
    "version": 3
   },
   "file_extension": ".py",
   "mimetype": "text/x-python",
   "name": "python",
   "nbconvert_exporter": "python",
   "pygments_lexer": "ipython3",
   "version": "3.9.13"
  }
 },
 "nbformat": 4,
 "nbformat_minor": 2
}
