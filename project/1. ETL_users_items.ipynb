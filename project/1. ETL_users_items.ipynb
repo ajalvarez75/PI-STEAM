{
 "cells": [
  {
   "cell_type": "markdown",
   "metadata": {},
   "source": [
    "<center>\n",
    "\n",
    "# Users Items ETL\n",
    "\n",
    "<center>"
   ]
  },
  {
   "cell_type": "code",
   "execution_count": 2,
   "metadata": {},
   "outputs": [],
   "source": [
    "# Importations.\n",
    "import os\n",
    "import ast\n",
    "import pandas as pd"
   ]
  },
  {
   "cell_type": "markdown",
   "metadata": {},
   "source": [
    "<div style=\"text-align: justify\">\n",
    "\n",
    "### 1. From Json to csv \n",
    "\n",
    "I transformed the JSON file into a CSV file to read it as a data frame. After the first look, I checked that the column **items** was nested, so I had to unnest the column. I deleted the initial version, updated the code, and then created a new file to save space, as the file size was 560 MB, and the free limit for GitHub LFS is 1 GB.\n",
    "\n",
    "</div>"
   ]
  },
  {
   "cell_type": "code",
   "execution_count": 2,
   "metadata": {},
   "outputs": [
    {
     "name": "stdout",
     "output_type": "stream",
     "text": [
      "The file csv/users_items.csv was successfully created.\n"
     ]
    }
   ],
   "source": [
    "# For users_items.csv.\n",
    "# File paths.\n",
    "users_items = 'PI MLOps - STEAM/users_items.json'\n",
    "users_items_csv = 'csv/users_items.csv'\n",
    "\n",
    "# If the file does not exist, create the file.\n",
    "if not os.path.exists(users_items_csv):\n",
    "    # reading the Json data file.\n",
    "    items = []\n",
    "    with open(users_items, encoding='utf-8') as f:\n",
    "        for line in f.readlines():\n",
    "            items.append(ast.literal_eval(line))\n",
    "            \n",
    "    # Transform the Json file into a DataFrame and normalize the 'items' column.\n",
    "    df_items = pd.json_normalize(items, record_path=['items'], meta=['user_id', 'items_count', 'steam_id', 'user_url'])\n",
    "            \n",
    "    # Save the dataframe as a CSV file in the csv folder.\n",
    "    df_items.to_csv(users_items_csv, index=False)\n",
    "    print(f'The file {users_items_csv} was successfully created.')\n",
    "else:\n",
    "    print(f'The file {users_items_csv} already exists.')"
   ]
  },
  {
   "cell_type": "code",
   "execution_count": 8,
   "metadata": {},
   "outputs": [],
   "source": [
    "# Reading the csv file.\n",
    "df_items = pd.read_csv('csv/users_items.csv')"
   ]
  },
  {
   "cell_type": "code",
   "execution_count": 9,
   "metadata": {},
   "outputs": [
    {
     "data": {
      "text/html": [
       "<div>\n",
       "<style scoped>\n",
       "    .dataframe tbody tr th:only-of-type {\n",
       "        vertical-align: middle;\n",
       "    }\n",
       "\n",
       "    .dataframe tbody tr th {\n",
       "        vertical-align: top;\n",
       "    }\n",
       "\n",
       "    .dataframe thead th {\n",
       "        text-align: right;\n",
       "    }\n",
       "</style>\n",
       "<table border=\"1\" class=\"dataframe\">\n",
       "  <thead>\n",
       "    <tr style=\"text-align: right;\">\n",
       "      <th></th>\n",
       "      <th>user_id</th>\n",
       "      <th>items_count</th>\n",
       "      <th>steam_id</th>\n",
       "      <th>user_url</th>\n",
       "      <th>items</th>\n",
       "    </tr>\n",
       "  </thead>\n",
       "  <tbody>\n",
       "    <tr>\n",
       "      <th>0</th>\n",
       "      <td>76561197970982479</td>\n",
       "      <td>277</td>\n",
       "      <td>76561197970982479</td>\n",
       "      <td>http://steamcommunity.com/profiles/76561197970...</td>\n",
       "      <td>[{'item_id': '10', 'item_name': 'Counter-Strik...</td>\n",
       "    </tr>\n",
       "  </tbody>\n",
       "</table>\n",
       "</div>"
      ],
      "text/plain": [
       "             user_id  items_count           steam_id  \\\n",
       "0  76561197970982479          277  76561197970982479   \n",
       "\n",
       "                                            user_url  \\\n",
       "0  http://steamcommunity.com/profiles/76561197970...   \n",
       "\n",
       "                                               items  \n",
       "0  [{'item_id': '10', 'item_name': 'Counter-Strik...  "
      ]
     },
     "execution_count": 9,
     "metadata": {},
     "output_type": "execute_result"
    }
   ],
   "source": [
    "# First check to the file.\n",
    "df_items.head(1)"
   ]
  },
  {
   "cell_type": "markdown",
   "metadata": {},
   "source": [
    "The column **items** was nested; the composition of this column was a list that contained a dictionary."
   ]
  },
  {
   "cell_type": "code",
   "execution_count": 3,
   "metadata": {},
   "outputs": [],
   "source": [
    "# Reading the csv after the update.\n",
    "df_items_unnested = pd.read_csv('csv/users_items.csv')"
   ]
  },
  {
   "cell_type": "code",
   "execution_count": 4,
   "metadata": {},
   "outputs": [
    {
     "data": {
      "text/html": [
       "<div>\n",
       "<style scoped>\n",
       "    .dataframe tbody tr th:only-of-type {\n",
       "        vertical-align: middle;\n",
       "    }\n",
       "\n",
       "    .dataframe tbody tr th {\n",
       "        vertical-align: top;\n",
       "    }\n",
       "\n",
       "    .dataframe thead th {\n",
       "        text-align: right;\n",
       "    }\n",
       "</style>\n",
       "<table border=\"1\" class=\"dataframe\">\n",
       "  <thead>\n",
       "    <tr style=\"text-align: right;\">\n",
       "      <th></th>\n",
       "      <th>item_id</th>\n",
       "      <th>item_name</th>\n",
       "      <th>playtime_forever</th>\n",
       "      <th>playtime_2weeks</th>\n",
       "      <th>user_id</th>\n",
       "      <th>items_count</th>\n",
       "      <th>steam_id</th>\n",
       "      <th>user_url</th>\n",
       "    </tr>\n",
       "  </thead>\n",
       "  <tbody>\n",
       "    <tr>\n",
       "      <th>0</th>\n",
       "      <td>10</td>\n",
       "      <td>Counter-Strike</td>\n",
       "      <td>6</td>\n",
       "      <td>0</td>\n",
       "      <td>76561197970982479</td>\n",
       "      <td>277</td>\n",
       "      <td>76561197970982479</td>\n",
       "      <td>http://steamcommunity.com/profiles/76561197970...</td>\n",
       "    </tr>\n",
       "    <tr>\n",
       "      <th>1</th>\n",
       "      <td>20</td>\n",
       "      <td>Team Fortress Classic</td>\n",
       "      <td>0</td>\n",
       "      <td>0</td>\n",
       "      <td>76561197970982479</td>\n",
       "      <td>277</td>\n",
       "      <td>76561197970982479</td>\n",
       "      <td>http://steamcommunity.com/profiles/76561197970...</td>\n",
       "    </tr>\n",
       "    <tr>\n",
       "      <th>2</th>\n",
       "      <td>30</td>\n",
       "      <td>Day of Defeat</td>\n",
       "      <td>7</td>\n",
       "      <td>0</td>\n",
       "      <td>76561197970982479</td>\n",
       "      <td>277</td>\n",
       "      <td>76561197970982479</td>\n",
       "      <td>http://steamcommunity.com/profiles/76561197970...</td>\n",
       "    </tr>\n",
       "  </tbody>\n",
       "</table>\n",
       "</div>"
      ],
      "text/plain": [
       "   item_id              item_name  playtime_forever  playtime_2weeks  \\\n",
       "0       10         Counter-Strike                 6                0   \n",
       "1       20  Team Fortress Classic                 0                0   \n",
       "2       30          Day of Defeat                 7                0   \n",
       "\n",
       "             user_id  items_count           steam_id  \\\n",
       "0  76561197970982479          277  76561197970982479   \n",
       "1  76561197970982479          277  76561197970982479   \n",
       "2  76561197970982479          277  76561197970982479   \n",
       "\n",
       "                                            user_url  \n",
       "0  http://steamcommunity.com/profiles/76561197970...  \n",
       "1  http://steamcommunity.com/profiles/76561197970...  \n",
       "2  http://steamcommunity.com/profiles/76561197970...  "
      ]
     },
     "execution_count": 4,
     "metadata": {},
     "output_type": "execute_result"
    }
   ],
   "source": [
    "# Checking the columns and file content after the update.\n",
    "df_items_unnested.head(3)"
   ]
  },
  {
   "cell_type": "markdown",
   "metadata": {},
   "source": [
    "<div style=\"text-align: justify\">\n",
    "\n",
    "After normalization, the column **items** was unnested, and every game inside the **item_name** column was aligned with the correct user in the **user_id** column.\n",
    "\n",
    "</div>"
   ]
  },
  {
   "cell_type": "markdown",
   "metadata": {},
   "source": [
    "<div style=\"text-align: justify\">\n",
    "\n",
    "### 2. Checking NAN, None and Duplicate Items\n",
    "\n",
    "I used 2 methods to find out if the file had NAN/None data.\n",
    "but the results were negative, after applied the loc method I found that the file had 59104 duplicates.\n",
    "\n",
    "</div>"
   ]
  },
  {
   "cell_type": "code",
   "execution_count": 5,
   "metadata": {},
   "outputs": [
    {
     "data": {
      "text/plain": [
       "item_id             0\n",
       "item_name           0\n",
       "playtime_forever    0\n",
       "playtime_2weeks     0\n",
       "user_id             0\n",
       "items_count         0\n",
       "steam_id            0\n",
       "user_url            0\n",
       "dtype: int64"
      ]
     },
     "execution_count": 5,
     "metadata": {},
     "output_type": "execute_result"
    }
   ],
   "source": [
    "# Procee to check if there is null data.\n",
    "null_data = df_items_unnested.isnull().sum()\n",
    "null_data"
   ]
  },
  {
   "cell_type": "markdown",
   "metadata": {},
   "source": [
    "I used the isnull().sum() method, I could not find any null data."
   ]
  },
  {
   "cell_type": "code",
   "execution_count": 7,
   "metadata": {},
   "outputs": [
    {
     "name": "stdout",
     "output_type": "stream",
     "text": [
      "item_id             False\n",
      "item_name           False\n",
      "playtime_forever    False\n",
      "playtime_2weeks     False\n",
      "user_id             False\n",
      "items_count         False\n",
      "steam_id            False\n",
      "user_url            False\n",
      "dtype: bool\n"
     ]
    }
   ],
   "source": [
    "# Second method to confirm if the file has any null data.\n",
    "print(df_items_unnested.isna().any())"
   ]
  },
  {
   "cell_type": "markdown",
   "metadata": {},
   "source": [
    "I tried a second variant to confirm the initial result."
   ]
  },
  {
   "cell_type": "code",
   "execution_count": 8,
   "metadata": {},
   "outputs": [
    {
     "data": {
      "text/html": [
       "<div>\n",
       "<style scoped>\n",
       "    .dataframe tbody tr th:only-of-type {\n",
       "        vertical-align: middle;\n",
       "    }\n",
       "\n",
       "    .dataframe tbody tr th {\n",
       "        vertical-align: top;\n",
       "    }\n",
       "\n",
       "    .dataframe thead th {\n",
       "        text-align: right;\n",
       "    }\n",
       "</style>\n",
       "<table border=\"1\" class=\"dataframe\">\n",
       "  <thead>\n",
       "    <tr style=\"text-align: right;\">\n",
       "      <th></th>\n",
       "      <th>item_id</th>\n",
       "      <th>item_name</th>\n",
       "      <th>playtime_forever</th>\n",
       "      <th>playtime_2weeks</th>\n",
       "      <th>user_id</th>\n",
       "      <th>items_count</th>\n",
       "      <th>steam_id</th>\n",
       "      <th>user_url</th>\n",
       "    </tr>\n",
       "  </thead>\n",
       "  <tbody>\n",
       "    <tr>\n",
       "      <th>164294</th>\n",
       "      <td>20</td>\n",
       "      <td>Team Fortress Classic</td>\n",
       "      <td>5</td>\n",
       "      <td>0</td>\n",
       "      <td>Nikiad</td>\n",
       "      <td>109</td>\n",
       "      <td>76561198084006094</td>\n",
       "      <td>http://steamcommunity.com/id/Nikiad</td>\n",
       "    </tr>\n",
       "    <tr>\n",
       "      <th>164295</th>\n",
       "      <td>50</td>\n",
       "      <td>Half-Life: Opposing Force</td>\n",
       "      <td>0</td>\n",
       "      <td>0</td>\n",
       "      <td>Nikiad</td>\n",
       "      <td>109</td>\n",
       "      <td>76561198084006094</td>\n",
       "      <td>http://steamcommunity.com/id/Nikiad</td>\n",
       "    </tr>\n",
       "    <tr>\n",
       "      <th>164296</th>\n",
       "      <td>70</td>\n",
       "      <td>Half-Life</td>\n",
       "      <td>0</td>\n",
       "      <td>0</td>\n",
       "      <td>Nikiad</td>\n",
       "      <td>109</td>\n",
       "      <td>76561198084006094</td>\n",
       "      <td>http://steamcommunity.com/id/Nikiad</td>\n",
       "    </tr>\n",
       "    <tr>\n",
       "      <th>164297</th>\n",
       "      <td>130</td>\n",
       "      <td>Half-Life: Blue Shift</td>\n",
       "      <td>0</td>\n",
       "      <td>0</td>\n",
       "      <td>Nikiad</td>\n",
       "      <td>109</td>\n",
       "      <td>76561198084006094</td>\n",
       "      <td>http://steamcommunity.com/id/Nikiad</td>\n",
       "    </tr>\n",
       "    <tr>\n",
       "      <th>164298</th>\n",
       "      <td>220</td>\n",
       "      <td>Half-Life 2</td>\n",
       "      <td>198</td>\n",
       "      <td>0</td>\n",
       "      <td>Nikiad</td>\n",
       "      <td>109</td>\n",
       "      <td>76561198084006094</td>\n",
       "      <td>http://steamcommunity.com/id/Nikiad</td>\n",
       "    </tr>\n",
       "    <tr>\n",
       "      <th>...</th>\n",
       "      <td>...</td>\n",
       "      <td>...</td>\n",
       "      <td>...</td>\n",
       "      <td>...</td>\n",
       "      <td>...</td>\n",
       "      <td>...</td>\n",
       "      <td>...</td>\n",
       "      <td>...</td>\n",
       "    </tr>\n",
       "    <tr>\n",
       "      <th>4898223</th>\n",
       "      <td>213670</td>\n",
       "      <td>South Park™: The Stick of Truth™</td>\n",
       "      <td>725</td>\n",
       "      <td>0</td>\n",
       "      <td>76561198080057659</td>\n",
       "      <td>39</td>\n",
       "      <td>76561198080057659</td>\n",
       "      <td>http://steamcommunity.com/profiles/76561198080...</td>\n",
       "    </tr>\n",
       "    <tr>\n",
       "      <th>4898224</th>\n",
       "      <td>221910</td>\n",
       "      <td>The Stanley Parable</td>\n",
       "      <td>53</td>\n",
       "      <td>0</td>\n",
       "      <td>76561198080057659</td>\n",
       "      <td>39</td>\n",
       "      <td>76561198080057659</td>\n",
       "      <td>http://steamcommunity.com/profiles/76561198080...</td>\n",
       "    </tr>\n",
       "    <tr>\n",
       "      <th>4898225</th>\n",
       "      <td>261030</td>\n",
       "      <td>The Walking Dead: Season Two</td>\n",
       "      <td>253</td>\n",
       "      <td>0</td>\n",
       "      <td>76561198080057659</td>\n",
       "      <td>39</td>\n",
       "      <td>76561198080057659</td>\n",
       "      <td>http://steamcommunity.com/profiles/76561198080...</td>\n",
       "    </tr>\n",
       "    <tr>\n",
       "      <th>4898226</th>\n",
       "      <td>273110</td>\n",
       "      <td>Counter-Strike Nexon: Zombies</td>\n",
       "      <td>0</td>\n",
       "      <td>0</td>\n",
       "      <td>76561198080057659</td>\n",
       "      <td>39</td>\n",
       "      <td>76561198080057659</td>\n",
       "      <td>http://steamcommunity.com/profiles/76561198080...</td>\n",
       "    </tr>\n",
       "    <tr>\n",
       "      <th>4898227</th>\n",
       "      <td>730</td>\n",
       "      <td>Counter-Strike: Global Offensive</td>\n",
       "      <td>0</td>\n",
       "      <td>0</td>\n",
       "      <td>76561198080057659</td>\n",
       "      <td>39</td>\n",
       "      <td>76561198080057659</td>\n",
       "      <td>http://steamcommunity.com/profiles/76561198080...</td>\n",
       "    </tr>\n",
       "  </tbody>\n",
       "</table>\n",
       "<p>59104 rows × 8 columns</p>\n",
       "</div>"
      ],
      "text/plain": [
       "         item_id                         item_name  playtime_forever  \\\n",
       "164294        20             Team Fortress Classic                 5   \n",
       "164295        50         Half-Life: Opposing Force                 0   \n",
       "164296        70                         Half-Life                 0   \n",
       "164297       130             Half-Life: Blue Shift                 0   \n",
       "164298       220                       Half-Life 2               198   \n",
       "...          ...                               ...               ...   \n",
       "4898223   213670  South Park™: The Stick of Truth™               725   \n",
       "4898224   221910               The Stanley Parable                53   \n",
       "4898225   261030      The Walking Dead: Season Two               253   \n",
       "4898226   273110     Counter-Strike Nexon: Zombies                 0   \n",
       "4898227      730  Counter-Strike: Global Offensive                 0   \n",
       "\n",
       "         playtime_2weeks            user_id  items_count           steam_id  \\\n",
       "164294                 0             Nikiad          109  76561198084006094   \n",
       "164295                 0             Nikiad          109  76561198084006094   \n",
       "164296                 0             Nikiad          109  76561198084006094   \n",
       "164297                 0             Nikiad          109  76561198084006094   \n",
       "164298                 0             Nikiad          109  76561198084006094   \n",
       "...                  ...                ...          ...                ...   \n",
       "4898223                0  76561198080057659           39  76561198080057659   \n",
       "4898224                0  76561198080057659           39  76561198080057659   \n",
       "4898225                0  76561198080057659           39  76561198080057659   \n",
       "4898226                0  76561198080057659           39  76561198080057659   \n",
       "4898227                0  76561198080057659           39  76561198080057659   \n",
       "\n",
       "                                                  user_url  \n",
       "164294                 http://steamcommunity.com/id/Nikiad  \n",
       "164295                 http://steamcommunity.com/id/Nikiad  \n",
       "164296                 http://steamcommunity.com/id/Nikiad  \n",
       "164297                 http://steamcommunity.com/id/Nikiad  \n",
       "164298                 http://steamcommunity.com/id/Nikiad  \n",
       "...                                                    ...  \n",
       "4898223  http://steamcommunity.com/profiles/76561198080...  \n",
       "4898224  http://steamcommunity.com/profiles/76561198080...  \n",
       "4898225  http://steamcommunity.com/profiles/76561198080...  \n",
       "4898226  http://steamcommunity.com/profiles/76561198080...  \n",
       "4898227  http://steamcommunity.com/profiles/76561198080...  \n",
       "\n",
       "[59104 rows x 8 columns]"
      ]
     },
     "execution_count": 8,
     "metadata": {},
     "output_type": "execute_result"
    }
   ],
   "source": [
    "# Finding duplicates.\n",
    "duplicates = df_items_unnested.loc[df_items_unnested.duplicated()]\n",
    "duplicates"
   ]
  },
  {
   "cell_type": "markdown",
   "metadata": {},
   "source": [
    "After applied the **loc** method and the **duplicate** function, I found **59.104** duplicates."
   ]
  },
  {
   "cell_type": "code",
   "execution_count": 9,
   "metadata": {},
   "outputs": [
    {
     "name": "stdout",
     "output_type": "stream",
     "text": [
      "Total rows before: 5153209\n",
      "Total rows after: 5094105\n",
      "Rows removed: 59104\n"
     ]
    }
   ],
   "source": [
    "# Total rows before deduplication.\n",
    "total_rows_before = len(df_items_unnested)\n",
    "\n",
    "# Remove duplicate rows.\n",
    "df_items_unnested = df_items_unnested.drop_duplicates(keep='first')\n",
    "\n",
    "# Total rows after deduplication.\n",
    "total_rows_after = len(df_items_unnested)\n",
    "\n",
    "# Total rows removed.\n",
    "rows_removed = total_rows_before - total_rows_after\n",
    "\n",
    "# Print the information.\n",
    "print(f'Total rows before: {total_rows_before}')\n",
    "print(f'Total rows after: {total_rows_after}')\n",
    "print(f'Rows removed: {rows_removed}')"
   ]
  },
  {
   "cell_type": "markdown",
   "metadata": {},
   "source": [
    "I wanted to verify if the **drop_duplicates** function was going to delete the total amount of duplicates."
   ]
  },
  {
   "cell_type": "markdown",
   "metadata": {},
   "source": [
    "<div style=\"text-align: justify\">\n",
    "\n",
    "### 3. Deleting Columns\n",
    "\n",
    "I deleted some columns that I considered unnecessary for the project. This helped me reduce the size of the file. The columns I removed were **playtime_2weeks** (which contained the same information as playtime forever), **steam_id** (which duplicated the information found in user_id), **items_count** (representing the number of items/games per user), and **user_url** (which contained the link to the user's profile).\n",
    "\n",
    "</div>"
   ]
  },
  {
   "cell_type": "code",
   "execution_count": 10,
   "metadata": {},
   "outputs": [],
   "source": [
    "# Deleting the columns.\n",
    "df_items_unnested = df_items_unnested.drop(['playtime_2weeks', 'items_count', 'steam_id', 'user_url'], axis=1)"
   ]
  },
  {
   "cell_type": "markdown",
   "metadata": {},
   "source": [
    "<div style=\"text-align: justify\">\n",
    "\n",
    "### 4. Checking the Playtime Forever Column\n",
    "\n",
    "For the project, it was not necessary to retain information about items/games with 0 minutes of playtime. Steam does not allow you to write a review unless you have started/played the game.\n",
    "\n",
    "</div>"
   ]
  },
  {
   "cell_type": "code",
   "execution_count": 15,
   "metadata": {},
   "outputs": [],
   "source": [
    "# Filtrar las filas donde playtime_forever es menor de 30 minutos\n",
    "df_items_unnested = df_items_unnested[df_items_unnested['playtime_forever'] >= 300]"
   ]
  },
  {
   "cell_type": "code",
   "execution_count": 16,
   "metadata": {},
   "outputs": [
    {
     "data": {
      "text/html": [
       "<div>\n",
       "<style scoped>\n",
       "    .dataframe tbody tr th:only-of-type {\n",
       "        vertical-align: middle;\n",
       "    }\n",
       "\n",
       "    .dataframe tbody tr th {\n",
       "        vertical-align: top;\n",
       "    }\n",
       "\n",
       "    .dataframe thead th {\n",
       "        text-align: right;\n",
       "    }\n",
       "</style>\n",
       "<table border=\"1\" class=\"dataframe\">\n",
       "  <thead>\n",
       "    <tr style=\"text-align: right;\">\n",
       "      <th></th>\n",
       "      <th>item_id</th>\n",
       "      <th>item_name</th>\n",
       "      <th>playtime_forever</th>\n",
       "      <th>user_id</th>\n",
       "    </tr>\n",
       "  </thead>\n",
       "  <tbody>\n",
       "    <tr>\n",
       "      <th>2273913</th>\n",
       "      <td>218620</td>\n",
       "      <td>PAYDAY 2</td>\n",
       "      <td>300</td>\n",
       "      <td>76561198009403093</td>\n",
       "    </tr>\n",
       "    <tr>\n",
       "      <th>425878</th>\n",
       "      <td>304050</td>\n",
       "      <td>Trove</td>\n",
       "      <td>300</td>\n",
       "      <td>76561198093242240</td>\n",
       "    </tr>\n",
       "    <tr>\n",
       "      <th>2025969</th>\n",
       "      <td>202970</td>\n",
       "      <td>Call of Duty: Black Ops II</td>\n",
       "      <td>300</td>\n",
       "      <td>76561198049573978</td>\n",
       "    </tr>\n",
       "    <tr>\n",
       "      <th>162183</th>\n",
       "      <td>9450</td>\n",
       "      <td>Warhammer 40,000: Dawn of War – Soulstorm</td>\n",
       "      <td>300</td>\n",
       "      <td>kaepora0gaebora</td>\n",
       "    </tr>\n",
       "    <tr>\n",
       "      <th>325591</th>\n",
       "      <td>99900</td>\n",
       "      <td>Spiral Knights</td>\n",
       "      <td>300</td>\n",
       "      <td>76561198067193543</td>\n",
       "    </tr>\n",
       "    <tr>\n",
       "      <th>...</th>\n",
       "      <td>...</td>\n",
       "      <td>...</td>\n",
       "      <td>...</td>\n",
       "      <td>...</td>\n",
       "    </tr>\n",
       "    <tr>\n",
       "      <th>1169053</th>\n",
       "      <td>72200</td>\n",
       "      <td>Universe Sandbox</td>\n",
       "      <td>600068</td>\n",
       "      <td>tsunamitad</td>\n",
       "    </tr>\n",
       "    <tr>\n",
       "      <th>959169</th>\n",
       "      <td>4000</td>\n",
       "      <td>Garry's Mod</td>\n",
       "      <td>613411</td>\n",
       "      <td>76561198039832932</td>\n",
       "    </tr>\n",
       "    <tr>\n",
       "      <th>2550730</th>\n",
       "      <td>42710</td>\n",
       "      <td>Call of Duty: Black Ops - Multiplayer</td>\n",
       "      <td>632452</td>\n",
       "      <td>76561198019826668</td>\n",
       "    </tr>\n",
       "    <tr>\n",
       "      <th>1581333</th>\n",
       "      <td>212200</td>\n",
       "      <td>Mabinogi</td>\n",
       "      <td>635295</td>\n",
       "      <td>Evilutional</td>\n",
       "    </tr>\n",
       "    <tr>\n",
       "      <th>388522</th>\n",
       "      <td>4000</td>\n",
       "      <td>Garry's Mod</td>\n",
       "      <td>642773</td>\n",
       "      <td>wolop</td>\n",
       "    </tr>\n",
       "  </tbody>\n",
       "</table>\n",
       "<p>1374010 rows × 4 columns</p>\n",
       "</div>"
      ],
      "text/plain": [
       "         item_id                                  item_name  playtime_forever  \\\n",
       "2273913   218620                                   PAYDAY 2               300   \n",
       "425878    304050                                      Trove               300   \n",
       "2025969   202970                 Call of Duty: Black Ops II               300   \n",
       "162183      9450  Warhammer 40,000: Dawn of War – Soulstorm               300   \n",
       "325591     99900                             Spiral Knights               300   \n",
       "...          ...                                        ...               ...   \n",
       "1169053    72200                           Universe Sandbox            600068   \n",
       "959169      4000                                Garry's Mod            613411   \n",
       "2550730    42710      Call of Duty: Black Ops - Multiplayer            632452   \n",
       "1581333   212200                                   Mabinogi            635295   \n",
       "388522      4000                                Garry's Mod            642773   \n",
       "\n",
       "                   user_id  \n",
       "2273913  76561198009403093  \n",
       "425878   76561198093242240  \n",
       "2025969  76561198049573978  \n",
       "162183     kaepora0gaebora  \n",
       "325591   76561198067193543  \n",
       "...                    ...  \n",
       "1169053         tsunamitad  \n",
       "959169   76561198039832932  \n",
       "2550730  76561198019826668  \n",
       "1581333        Evilutional  \n",
       "388522               wolop  \n",
       "\n",
       "[1374010 rows x 4 columns]"
      ]
     },
     "execution_count": 16,
     "metadata": {},
     "output_type": "execute_result"
    }
   ],
   "source": [
    "# checking the result.\n",
    "df_sorted = df_items_unnested.sort_values(by='playtime_forever')\n",
    "df_sorted"
   ]
  },
  {
   "cell_type": "markdown",
   "metadata": {},
   "source": [
    "After deleting the duplicates, the file initially had 5,094,105 rows, and now it only has 3,246,375. This means that there were 1,847,730 rows with 0 minutes.\n",
    "Update: I had to further reduce the size of this file because the processing time for graphics was too high."
   ]
  },
  {
   "cell_type": "code",
   "execution_count": 20,
   "metadata": {},
   "outputs": [
    {
     "name": "stdout",
     "output_type": "stream",
     "text": [
      "<class 'pandas.core.frame.DataFrame'>\n",
      "RangeIndex: 1374010 entries, 0 to 1374009\n",
      "Data columns (total 4 columns):\n",
      " #   Column            Non-Null Count    Dtype \n",
      "---  ------            --------------    ----- \n",
      " 0   item_id           1374010 non-null  int64 \n",
      " 1   item_name         1374010 non-null  object\n",
      " 2   playtime_forever  1374010 non-null  int64 \n",
      " 3   user_id           1374010 non-null  object\n",
      "dtypes: int64(2), object(2)\n",
      "memory usage: 41.9+ MB\n"
     ]
    }
   ],
   "source": [
    "df_items_unnested.info()"
   ]
  },
  {
   "cell_type": "code",
   "execution_count": 18,
   "metadata": {},
   "outputs": [
    {
     "data": {
      "text/html": [
       "<div>\n",
       "<style scoped>\n",
       "    .dataframe tbody tr th:only-of-type {\n",
       "        vertical-align: middle;\n",
       "    }\n",
       "\n",
       "    .dataframe tbody tr th {\n",
       "        vertical-align: top;\n",
       "    }\n",
       "\n",
       "    .dataframe thead th {\n",
       "        text-align: right;\n",
       "    }\n",
       "</style>\n",
       "<table border=\"1\" class=\"dataframe\">\n",
       "  <thead>\n",
       "    <tr style=\"text-align: right;\">\n",
       "      <th></th>\n",
       "      <th>item_id</th>\n",
       "      <th>item_name</th>\n",
       "      <th>playtime_forever</th>\n",
       "      <th>user_id</th>\n",
       "    </tr>\n",
       "  </thead>\n",
       "  <tbody>\n",
       "    <tr>\n",
       "      <th>0</th>\n",
       "      <td>300</td>\n",
       "      <td>Day of Defeat: Source</td>\n",
       "      <td>4733</td>\n",
       "      <td>76561197970982479</td>\n",
       "    </tr>\n",
       "    <tr>\n",
       "      <th>1</th>\n",
       "      <td>240</td>\n",
       "      <td>Counter-Strike: Source</td>\n",
       "      <td>1853</td>\n",
       "      <td>76561197970982479</td>\n",
       "    </tr>\n",
       "    <tr>\n",
       "      <th>2</th>\n",
       "      <td>3830</td>\n",
       "      <td>Psychonauts</td>\n",
       "      <td>333</td>\n",
       "      <td>76561197970982479</td>\n",
       "    </tr>\n",
       "    <tr>\n",
       "      <th>3</th>\n",
       "      <td>3900</td>\n",
       "      <td>Sid Meier's Civilization IV</td>\n",
       "      <td>338</td>\n",
       "      <td>76561197970982479</td>\n",
       "    </tr>\n",
       "    <tr>\n",
       "      <th>4</th>\n",
       "      <td>6910</td>\n",
       "      <td>Deus Ex: Game of the Year Edition</td>\n",
       "      <td>2685</td>\n",
       "      <td>76561197970982479</td>\n",
       "    </tr>\n",
       "    <tr>\n",
       "      <th>...</th>\n",
       "      <td>...</td>\n",
       "      <td>...</td>\n",
       "      <td>...</td>\n",
       "      <td>...</td>\n",
       "    </tr>\n",
       "    <tr>\n",
       "      <th>1374005</th>\n",
       "      <td>370240</td>\n",
       "      <td>NBA 2K16</td>\n",
       "      <td>1533</td>\n",
       "      <td>76561198319916652</td>\n",
       "    </tr>\n",
       "    <tr>\n",
       "      <th>1374006</th>\n",
       "      <td>346330</td>\n",
       "      <td>BrainBread 2</td>\n",
       "      <td>756</td>\n",
       "      <td>76561198320038728</td>\n",
       "    </tr>\n",
       "    <tr>\n",
       "      <th>1374007</th>\n",
       "      <td>730</td>\n",
       "      <td>Counter-Strike: Global Offensive</td>\n",
       "      <td>4557</td>\n",
       "      <td>ArkPlays7</td>\n",
       "    </tr>\n",
       "    <tr>\n",
       "      <th>1374008</th>\n",
       "      <td>346110</td>\n",
       "      <td>ARK: Survival Evolved</td>\n",
       "      <td>623</td>\n",
       "      <td>ArkPlays7</td>\n",
       "    </tr>\n",
       "    <tr>\n",
       "      <th>1374009</th>\n",
       "      <td>304930</td>\n",
       "      <td>Unturned</td>\n",
       "      <td>677</td>\n",
       "      <td>76561198329548331</td>\n",
       "    </tr>\n",
       "  </tbody>\n",
       "</table>\n",
       "<p>1374010 rows × 4 columns</p>\n",
       "</div>"
      ],
      "text/plain": [
       "         item_id                          item_name  playtime_forever  \\\n",
       "0            300              Day of Defeat: Source              4733   \n",
       "1            240             Counter-Strike: Source              1853   \n",
       "2           3830                        Psychonauts               333   \n",
       "3           3900        Sid Meier's Civilization IV               338   \n",
       "4           6910  Deus Ex: Game of the Year Edition              2685   \n",
       "...          ...                                ...               ...   \n",
       "1374005   370240                           NBA 2K16              1533   \n",
       "1374006   346330                       BrainBread 2               756   \n",
       "1374007      730   Counter-Strike: Global Offensive              4557   \n",
       "1374008   346110              ARK: Survival Evolved               623   \n",
       "1374009   304930                           Unturned               677   \n",
       "\n",
       "                   user_id  \n",
       "0        76561197970982479  \n",
       "1        76561197970982479  \n",
       "2        76561197970982479  \n",
       "3        76561197970982479  \n",
       "4        76561197970982479  \n",
       "...                    ...  \n",
       "1374005  76561198319916652  \n",
       "1374006  76561198320038728  \n",
       "1374007          ArkPlays7  \n",
       "1374008          ArkPlays7  \n",
       "1374009  76561198329548331  \n",
       "\n",
       "[1374010 rows x 4 columns]"
      ]
     },
     "execution_count": 18,
     "metadata": {},
     "output_type": "execute_result"
    }
   ],
   "source": [
    "# resetting the index of the file.\n",
    "df_items_unnested.reset_index(drop=True, inplace=True)\n",
    "df_items_unnested"
   ]
  },
  {
   "cell_type": "markdown",
   "metadata": {},
   "source": [
    "I wanted to reset the index to have a better order and future reference if I need it."
   ]
  },
  {
   "cell_type": "markdown",
   "metadata": {},
   "source": [
    "<div style=\"text-align: justify\">\n",
    "\n",
    "### 5. It is time to overwrite it\n",
    "\n",
    "The file size was reduced to just 137 MB.\n",
    "\n",
    "</div>"
   ]
  },
  {
   "cell_type": "code",
   "execution_count": 19,
   "metadata": {},
   "outputs": [],
   "source": [
    "# Overwrite the original CSV file.\n",
    "df_items_unnested.to_csv('csv/users_items.csv', index=False)"
   ]
  }
 ],
 "metadata": {
  "kernelspec": {
   "display_name": "Python 3",
   "language": "python",
   "name": "python3"
  },
  "language_info": {
   "codemirror_mode": {
    "name": "ipython",
    "version": 3
   },
   "file_extension": ".py",
   "mimetype": "text/x-python",
   "name": "python",
   "nbconvert_exporter": "python",
   "pygments_lexer": "ipython3",
   "version": "3.9.13"
  }
 },
 "nbformat": 4,
 "nbformat_minor": 2
}
