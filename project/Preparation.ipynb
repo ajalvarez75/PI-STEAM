{
 "cells": [
  {
   "cell_type": "markdown",
   "metadata": {},
   "source": [
    "Preparation file to unzip the json files to do the project."
   ]
  },
  {
   "cell_type": "code",
   "execution_count": 6,
   "metadata": {},
   "outputs": [],
   "source": [
    "import zipfile\n",
    "import gzip\n",
    "import shutil\n",
    "import os\n",
    "import json\n",
    "import pandas as pd\n",
    "import ast"
   ]
  },
  {
   "cell_type": "code",
   "execution_count": 13,
   "metadata": {},
   "outputs": [
    {
     "name": "stdout",
     "output_type": "stream",
     "text": [
      "File steam_games.json.gz decompressed to PI MLOps - STEAM\\steam_games.json\n",
      "Compressed file steam_games.json.gz deleted.\n",
      "File users_items.json.gz decompressed to PI MLOps - STEAM\\users_items.json\n",
      "Compressed file users_items.json.gz deleted.\n",
      "File user_reviews.json.gz decompressed to PI MLOps - STEAM\\user_reviews.json\n",
      "Compressed file user_reviews.json.gz deleted.\n"
     ]
    }
   ],
   "source": [
    "# Path to the zip file\n",
    "zip_file_path = 'PI MLOps - STEAM-20231219T030929Z-001.zip'\n",
    "\n",
    "# Extraction directory\n",
    "destination_directory = ''\n",
    "\n",
    "# Extract the .zip file\n",
    "with zipfile.ZipFile(zip_file_path, 'r') as zip_ref:\n",
    "    zip_ref.extractall(destination_directory)\n",
    "\n",
    "# Remove the zip file after extraction\n",
    "os.remove(zip_file_path)\n",
    "\n",
    "# Folder containing the compressed .gz files\n",
    "compressed_folder = 'PI MLOps - STEAM'\n",
    "\n",
    "# Extraction directory\n",
    "destination_directory = 'PI MLOps - STEAM'\n",
    "\n",
    "# Get the list of compressed .gz files in the folder\n",
    "compressed_files = [file for file in os.listdir(compressed_folder) if file.endswith('.gz')]\n",
    "\n",
    "# Iterate over the list of files, decompress, and delete each one\n",
    "for compressed_file in compressed_files:\n",
    "    # Full path of the compressed file\n",
    "    compressed_file_path = os.path.join(compressed_folder, compressed_file)\n",
    "    # Full path of the decompressed file\n",
    "    decompressed_file_path = os.path.join(destination_directory, compressed_file.replace('.gz', ''))\n",
    "\n",
    "    # Decompress the .gz file\n",
    "    with gzip.open(compressed_file_path, 'rb') as f_in:\n",
    "        with open(decompressed_file_path, 'wb') as f_out:\n",
    "            shutil.copyfileobj(f_in, f_out)\n",
    "\n",
    "    print(f'File {compressed_file} decompressed to {decompressed_file_path}')\n",
    "\n",
    "    # Remove the compressed file after decompression\n",
    "    os.remove(compressed_file_path)\n",
    "    print(f'Compressed file {compressed_file} deleted.')"
   ]
  },
  {
   "cell_type": "markdown",
   "metadata": {},
   "source": [
    "From Json format to CSV format."
   ]
  },
  {
   "cell_type": "code",
   "execution_count": 10,
   "metadata": {},
   "outputs": [
    {
     "name": "stdout",
     "output_type": "stream",
     "text": [
      "The file csv/users_items.csv already exists.\n"
     ]
    }
   ],
   "source": [
    "# for users_items.csv\n",
    "# File paths\n",
    "users_items = 'PI MLOps - STEAM/users_items.json'\n",
    "users_items_csv = 'csv/users_items.csv'\n",
    "\n",
    "# If the file does not exist, create the file.\n",
    "if not os.path.exists(users_items_csv):\n",
    "    # reading the Json data file.\n",
    "    items = []\n",
    "    with open(users_items, encoding='utf-8') as f:\n",
    "        for line in f.readlines():\n",
    "            items.append(ast.literal_eval(line))\n",
    "\n",
    "    # transform the Json file into a dataframe.\n",
    "    df_items = pd.DataFrame(items)\n",
    "\n",
    "    # save the dataframe as a CSV file in the csv folder.\n",
    "    df_items.to_csv(users_items_csv, index=False)\n",
    "    print(f'The file {users_items_csv} was successfully created.')\n",
    "else:\n",
    "    print(f'The file {users_items_csv} already exists.')"
   ]
  },
  {
   "cell_type": "code",
   "execution_count": 11,
   "metadata": {},
   "outputs": [
    {
     "name": "stdout",
     "output_type": "stream",
     "text": [
      "The file csv/user_reviews.csv already exists.\n"
     ]
    }
   ],
   "source": [
    "# For user_reviews.csv\n",
    "# File paths\n",
    "user_reviews = 'PI MLOps - STEAM/user_reviews.json'\n",
    "user_reviews_csv = 'csv/user_reviews.csv'\n",
    "\n",
    "# If the file does not exist, create the file.\n",
    "if not os.path.exists(user_reviews_csv):\n",
    "    # reading the Json data file.\n",
    "    reviews = []\n",
    "    with open(user_reviews, encoding='utf-8') as f:\n",
    "        for line in f.readlines():\n",
    "            reviews.append(ast.literal_eval(line))\n",
    "\n",
    "    # transform the Json file into a dataframe.\n",
    "    df_reviews = pd.DataFrame(reviews)\n",
    "\n",
    "    # save the dataframe as a CSV file in the csv folder.\n",
    "    df_reviews.to_csv(user_reviews_csv, index=False)\n",
    "    print(f'The file {user_reviews_csv} was successfully created.')\n",
    "else:\n",
    "    print(f'The file {user_reviews_csv} already exists.')"
   ]
  },
  {
   "cell_type": "code",
   "execution_count": 12,
   "metadata": {},
   "outputs": [
    {
     "name": "stdout",
     "output_type": "stream",
     "text": [
      "The file csv/steam_games.csv already exists.\n"
     ]
    }
   ],
   "source": [
    "# For steam_games.csv\n",
    "# File paths\n",
    "steam_games = 'PI MLOps - STEAM/steam_games.json'\n",
    "steam_games_csv = 'csv/steam_games.csv'\n",
    "\n",
    "# If the file does not exist, create the file.\n",
    "if not os.path.exists(steam_games_csv):\n",
    "    # reading the Json data file.\n",
    "    games = []\n",
    "    with open(steam_games, 'r') as f:\n",
    "        # Iterates over the lines in the file and loads each line as a JSON object.\n",
    "        for line in f:\n",
    "            json_object = json.loads(line)\n",
    "            games.append(json_object)\n",
    "\n",
    "    # transform the Json file into a dataframe.\n",
    "    df_games = pd.DataFrame(games)\n",
    "\n",
    "    # save the dataframe as a CSV file in the csv folder.\n",
    "    df_games.to_csv(steam_games_csv, index=False)\n",
    "    print(f'The file {steam_games_csv} was successfully created.')\n",
    "else:\n",
    "    print(f'The file {steam_games_csv} already exists.')"
   ]
  }
 ],
 "metadata": {
  "kernelspec": {
   "display_name": "Python 3",
   "language": "python",
   "name": "python3"
  },
  "language_info": {
   "codemirror_mode": {
    "name": "ipython",
    "version": 3
   },
   "file_extension": ".py",
   "mimetype": "text/x-python",
   "name": "python",
   "nbconvert_exporter": "python",
   "pygments_lexer": "ipython3",
   "version": "3.9.13"
  }
 },
 "nbformat": 4,
 "nbformat_minor": 2
}
