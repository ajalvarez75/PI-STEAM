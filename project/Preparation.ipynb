{
 "cells": [
  {
   "cell_type": "markdown",
   "metadata": {},
   "source": [
    "Preparation file to unzip the json files to do the project."
   ]
  },
  {
   "cell_type": "code",
   "execution_count": 13,
   "metadata": {},
   "outputs": [
    {
     "name": "stdout",
     "output_type": "stream",
     "text": [
      "File steam_games.json.gz decompressed to PI MLOps - STEAM\\steam_games.json\n",
      "Compressed file steam_games.json.gz deleted.\n",
      "File users_items.json.gz decompressed to PI MLOps - STEAM\\users_items.json\n",
      "Compressed file users_items.json.gz deleted.\n",
      "File user_reviews.json.gz decompressed to PI MLOps - STEAM\\user_reviews.json\n",
      "Compressed file user_reviews.json.gz deleted.\n"
     ]
    }
   ],
   "source": [
    "import zipfile\n",
    "import gzip\n",
    "import shutil\n",
    "import os\n",
    "\n",
    "# Path to the zip file\n",
    "zip_file_path = 'PI MLOps - STEAM-20231219T030929Z-001.zip'\n",
    "\n",
    "# Extraction directory\n",
    "destination_directory = ''\n",
    "\n",
    "# Extract the .zip file\n",
    "with zipfile.ZipFile(zip_file_path, 'r') as zip_ref:\n",
    "    zip_ref.extractall(destination_directory)\n",
    "\n",
    "# Remove the zip file after extraction\n",
    "os.remove(zip_file_path)\n",
    "\n",
    "# Folder containing the compressed .gz files\n",
    "compressed_folder = 'PI MLOps - STEAM'\n",
    "\n",
    "# Extraction directory\n",
    "destination_directory = 'PI MLOps - STEAM'\n",
    "\n",
    "# Get the list of compressed .gz files in the folder\n",
    "compressed_files = [file for file in os.listdir(compressed_folder) if file.endswith('.gz')]\n",
    "\n",
    "# Iterate over the list of files, decompress, and delete each one\n",
    "for compressed_file in compressed_files:\n",
    "    # Full path of the compressed file\n",
    "    compressed_file_path = os.path.join(compressed_folder, compressed_file)\n",
    "    # Full path of the decompressed file\n",
    "    decompressed_file_path = os.path.join(destination_directory, compressed_file.replace('.gz', ''))\n",
    "\n",
    "    # Decompress the .gz file\n",
    "    with gzip.open(compressed_file_path, 'rb') as f_in:\n",
    "        with open(decompressed_file_path, 'wb') as f_out:\n",
    "            shutil.copyfileobj(f_in, f_out)\n",
    "\n",
    "    print(f'File {compressed_file} decompressed to {decompressed_file_path}')\n",
    "\n",
    "    # Remove the compressed file after decompression\n",
    "    os.remove(compressed_file_path)\n",
    "    print(f'Compressed file {compressed_file} deleted.')"
   ]
  }
 ],
 "metadata": {
  "kernelspec": {
   "display_name": "Python 3",
   "language": "python",
   "name": "python3"
  },
  "language_info": {
   "codemirror_mode": {
    "name": "ipython",
    "version": 3
   },
   "file_extension": ".py",
   "mimetype": "text/x-python",
   "name": "python",
   "nbconvert_exporter": "python",
   "pygments_lexer": "ipython3",
   "version": "3.9.13"
  }
 },
 "nbformat": 4,
 "nbformat_minor": 2
}
